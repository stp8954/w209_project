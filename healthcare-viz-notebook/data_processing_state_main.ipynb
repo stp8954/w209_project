{
 "cells": [
  {
   "cell_type": "code",
   "execution_count": 1,
   "metadata": {},
   "outputs": [],
   "source": [
    "import altair as alt\n",
    "from vega_datasets import data\n",
    "import pandas as pd\n",
    "import os"
   ]
  },
  {
   "cell_type": "code",
   "execution_count": 2,
   "metadata": {},
   "outputs": [
    {
     "data": {
      "text/plain": [
       "DataTransformerRegistry.enable('json')"
      ]
     },
     "execution_count": 2,
     "metadata": {},
     "output_type": "execute_result"
    }
   ],
   "source": [
    "alt.data_transformers.enable('json')"
   ]
  },
  {
   "cell_type": "code",
   "execution_count": 3,
   "metadata": {},
   "outputs": [],
   "source": [
    "data_path = \"./bea_exp_data/\""
   ]
  },
  {
   "cell_type": "code",
   "execution_count": 4,
   "metadata": {},
   "outputs": [],
   "source": [
    "regions = []\n",
    "exclude = ['united_states.csv', \n",
    "         'new_england.csv',\n",
    "         'mideast.csv', \n",
    "         'great_lakes.csv',\n",
    "         'plains.csv',\n",
    "         'south_east.csv',\n",
    "         'south_west.csv',\n",
    "         'rocky_mountain.csv',\n",
    "         'far_west.csv']\n",
    "for file in os.listdir(data_path):\n",
    "    if file not in exclude:\n",
    "        regions.append(file)\n"
   ]
  },
  {
   "cell_type": "code",
   "execution_count": 5,
   "metadata": {},
   "outputs": [],
   "source": [
    "regions_frame = pd.DataFrame()\n",
    "list_ = []\n",
    "for region_ in regions:\n",
    "    df = pd.read_csv(data_path+region_, header=0, skiprows=4, nrows=24)\n",
    "    list_.append(df)\n",
    "regions_frame = pd.concat(list_)"
   ]
  },
  {
   "cell_type": "code",
   "execution_count": 6,
   "metadata": {},
   "outputs": [],
   "source": [
    "#regions_frame.to_csv(\"all_states_wide.csv\")"
   ]
  },
  {
   "cell_type": "code",
   "execution_count": 7,
   "metadata": {},
   "outputs": [],
   "source": [
    "lines = [1, 2, 3, 4, 5, 6, 7, 8, 9, 10, 11, 12, 13, 15, 16, 17, 18, 19, 20, 21, 22]\n",
    "years = [str(each) for each in range(1997, 2018)]"
   ]
  },
  {
   "cell_type": "code",
   "execution_count": 8,
   "metadata": {},
   "outputs": [],
   "source": [
    "regional_melt_frame = pd.DataFrame()\n",
    "list_ = []\n",
    "for line_ in lines:\n",
    "    regional_linex = pd.melt(regions_frame[(regions_frame.LineCode==line_)], \n",
    "                         id_vars=['GeoName', 'Description', 'LineCode'], \n",
    "                         value_vars=years, \n",
    "                         value_name='Value', \n",
    "                         var_name = 'Year')\n",
    "    list_.append(regional_linex)\n",
    "regional_melt_frame = pd.concat(list_)"
   ]
  },
  {
   "cell_type": "code",
   "execution_count": 9,
   "metadata": {},
   "outputs": [],
   "source": [
    "#regional_melt_frame.to_csv(\"all_states_tall.csv\")"
   ]
  },
  {
   "cell_type": "code",
   "execution_count": 10,
   "metadata": {},
   "outputs": [],
   "source": [
    "health_care = regional_melt_frame[regional_melt_frame[\"LineCode\"] == 16]"
   ]
  },
  {
   "cell_type": "code",
   "execution_count": 11,
   "metadata": {},
   "outputs": [
    {
     "data": {
      "text/html": [
       "<div>\n",
       "<style scoped>\n",
       "    .dataframe tbody tr th:only-of-type {\n",
       "        vertical-align: middle;\n",
       "    }\n",
       "\n",
       "    .dataframe tbody tr th {\n",
       "        vertical-align: top;\n",
       "    }\n",
       "\n",
       "    .dataframe thead th {\n",
       "        text-align: right;\n",
       "    }\n",
       "</style>\n",
       "<table border=\"1\" class=\"dataframe\">\n",
       "  <thead>\n",
       "    <tr style=\"text-align: right;\">\n",
       "      <th></th>\n",
       "      <th>GeoName</th>\n",
       "      <th>Description</th>\n",
       "      <th>LineCode</th>\n",
       "      <th>Year</th>\n",
       "      <th>Value</th>\n",
       "    </tr>\n",
       "  </thead>\n",
       "  <tbody>\n",
       "    <tr>\n",
       "      <th>0</th>\n",
       "      <td>Alabama</td>\n",
       "      <td>Health care</td>\n",
       "      <td>16</td>\n",
       "      <td>1997</td>\n",
       "      <td>2856</td>\n",
       "    </tr>\n",
       "    <tr>\n",
       "      <th>1</th>\n",
       "      <td>Alaska</td>\n",
       "      <td>Health care</td>\n",
       "      <td>16</td>\n",
       "      <td>1997</td>\n",
       "      <td>2804</td>\n",
       "    </tr>\n",
       "    <tr>\n",
       "      <th>2</th>\n",
       "      <td>Arizona</td>\n",
       "      <td>Health care</td>\n",
       "      <td>16</td>\n",
       "      <td>1997</td>\n",
       "      <td>2393</td>\n",
       "    </tr>\n",
       "    <tr>\n",
       "      <th>3</th>\n",
       "      <td>Arkansas</td>\n",
       "      <td>Health care</td>\n",
       "      <td>16</td>\n",
       "      <td>1997</td>\n",
       "      <td>2520</td>\n",
       "    </tr>\n",
       "    <tr>\n",
       "      <th>4</th>\n",
       "      <td>California</td>\n",
       "      <td>Health care</td>\n",
       "      <td>16</td>\n",
       "      <td>1997</td>\n",
       "      <td>2878</td>\n",
       "    </tr>\n",
       "  </tbody>\n",
       "</table>\n",
       "</div>"
      ],
      "text/plain": [
       "      GeoName      Description  LineCode  Year  Value\n",
       "0     Alabama      Health care        16  1997   2856\n",
       "1      Alaska      Health care        16  1997   2804\n",
       "2     Arizona      Health care        16  1997   2393\n",
       "3    Arkansas      Health care        16  1997   2520\n",
       "4  California      Health care        16  1997   2878"
      ]
     },
     "execution_count": 11,
     "metadata": {},
     "output_type": "execute_result"
    }
   ],
   "source": [
    "health_care.head()"
   ]
  },
  {
   "cell_type": "code",
   "execution_count": 12,
   "metadata": {},
   "outputs": [
    {
     "name": "stderr",
     "output_type": "stream",
     "text": [
      "c:\\users\\jasonl\\anaconda3\\envs\\altair\\lib\\site-packages\\ipykernel_launcher.py:1: SettingWithCopyWarning: \n",
      "A value is trying to be set on a copy of a slice from a DataFrame.\n",
      "Try using .loc[row_indexer,col_indexer] = value instead\n",
      "\n",
      "See the caveats in the documentation: http://pandas.pydata.org/pandas-docs/stable/indexing.html#indexing-view-versus-copy\n",
      "  \"\"\"Entry point for launching an IPython kernel.\n",
      "c:\\users\\jasonl\\anaconda3\\envs\\altair\\lib\\site-packages\\ipykernel_launcher.py:2: SettingWithCopyWarning: \n",
      "A value is trying to be set on a copy of a slice from a DataFrame.\n",
      "Try using .loc[row_indexer,col_indexer] = value instead\n",
      "\n",
      "See the caveats in the documentation: http://pandas.pydata.org/pandas-docs/stable/indexing.html#indexing-view-versus-copy\n",
      "  \n"
     ]
    }
   ],
   "source": [
    "health_care['Year_txt'] = health_care['Year']\n",
    "health_care['Year'] = pd.to_datetime(health_care['Year'], format = \"%Y\")"
   ]
  },
  {
   "cell_type": "code",
   "execution_count": 21,
   "metadata": {},
   "outputs": [
    {
     "data": {
      "application/vnd.vegalite.v2+json": {
       "$schema": "https://vega.github.io/schema/vega-lite/v2.6.0.json",
       "config": {
        "view": {
         "height": 300,
         "width": 400
        }
       },
       "hconcat": [
        {
         "data": {
          "format": {
           "type": "json"
          },
          "url": "altair-data-c7b18632dfb4654bdd26f54e980bd74d.json"
         },
         "vconcat": [
          {
           "encoding": {
            "color": {
             "condition": {
              "field": "GeoName",
              "legend": null,
              "selection": "selector017",
              "type": "nominal"
             },
             "value": "lightgray"
            },
            "tooltip": [
             {
              "field": "Value",
              "type": "quantitative"
             }
            ],
            "x": {
             "axis": {
              "title": "State"
             },
             "field": "GeoName",
             "sort": {
              "field": "Value",
              "op": "sum",
              "order": "descending"
             },
             "type": "nominal"
            },
            "y": {
             "axis": {
              "title": "Per Capita Healthcare Spending (US Dollars)"
             },
             "field": "Value",
             "type": "quantitative"
            }
           },
           "mark": "bar",
           "selection": {
            "selector017": {
             "empty": "all",
             "fields": [
              "GeoName"
             ],
             "on": "click",
             "resolve": "global",
             "toggle": "event.shiftKey",
             "type": "multi"
            }
           },
           "title": "Per Capita Healthcare Spending in 2017 by State",
           "transform": [
            {
             "filter": {
              "equal": 2017,
              "field": "Year_txt"
             }
            }
           ],
           "width": 650
          },
          {
           "layer": [
            {
             "encoding": {
              "color": {
               "condition": {
                "field": "GeoName",
                "legend": null,
                "selection": "selector017",
                "type": "nominal"
               },
               "value": "lightgray"
              },
              "size": {
               "condition": {
                "selection": {
                 "not": "selector018"
                },
                "value": 2
               },
               "value": 5
              },
              "x": {
               "axis": {
                "title": "Year"
               },
               "field": "Year",
               "timeUnit": "year",
               "type": "temporal"
              },
              "y": {
               "axis": {
                "title": "Per Capita Healthcare Spending (US Dollars)"
               },
               "field": "Value",
               "type": "quantitative"
              }
             },
             "height": 300,
             "mark": "line",
             "selection": {
              "selector017": {
               "empty": "all",
               "fields": [
                "GeoName"
               ],
               "on": "click",
               "resolve": "global",
               "toggle": "event.shiftKey",
               "type": "multi"
              },
              "selector018": {
               "empty": "all",
               "fields": [
                "GeoName"
               ],
               "nearest": true,
               "on": "mouseover",
               "resolve": "global",
               "type": "single"
              }
             },
             "transform": [
              {
               "filter": {
                "selection": "selector017"
               }
              }
             ],
             "width": 650
            },
            {
             "encoding": {
              "opacity": {
               "condition": {
                "selection": {
                 "not": "selector017"
                },
                "value": 0
               },
               "value": 1
              },
              "text": {
               "field": "GeoName",
               "type": "nominal"
              },
              "x": {
               "axis": {
                "title": "Year"
               },
               "field": "Year",
               "type": "temporal"
              },
              "y": {
               "axis": {
                "title": "Per Capita Healthcare Spending (US Dollars)"
               },
               "field": "Value",
               "type": "quantitative"
              }
             },
             "mark": {
              "align": "right",
              "baseline": "top",
              "dx": 0,
              "dy": -10,
              "type": "text"
             },
             "transform": [
              {
               "filter": {
                "equal": 2011,
                "field": "Year_txt"
               }
              },
              {
               "filter": {
                "selection": "selector017"
               }
              }
             ]
            },
            {
             "encoding": {
              "color": {
               "field": "GeoName",
               "legend": null,
               "type": "nominal"
              },
              "size": {
               "value": 80
              },
              "tooltip": [
               {
                "field": "GeoName",
                "type": "nominal"
               },
               {
                "field": "Year",
                "timeUnit": "year",
                "type": "temporal"
               },
               {
                "field": "Value",
                "type": "quantitative"
               }
              ],
              "x": {
               "axis": {
                "title": "Year"
               },
               "field": "Year",
               "timeUnit": "year",
               "type": "temporal"
              },
              "y": {
               "axis": {
                "title": "Per Capita Healthcare Spending (US Dollars)"
               },
               "field": "Value",
               "type": "quantitative"
              }
             },
             "height": 300,
             "mark": "point",
             "title": "Per Capita Healthcare Spending in 1997-2017 by State",
             "transform": [
              {
               "filter": {
                "selection": "selector017"
               }
              }
             ],
             "width": 650
            }
           ]
          }
         ]
        },
        {
         "data": {
          "format": {
           "type": "json"
          },
          "url": "altair-data-c7b18632dfb4654bdd26f54e980bd74d.json"
         },
         "encoding": {
          "color": {
           "condition": {
            "field": "GeoName",
            "legend": null,
            "selection": "selector017",
            "type": "nominal"
           },
           "value": "lightgray"
          },
          "size": {
           "value": 120
          },
          "y": {
           "axis": {
            "orient": "right",
            "title": "State"
           },
           "field": "GeoName",
           "type": "nominal"
          }
         },
         "mark": "point",
         "selection": {
          "selector017": {
           "empty": "all",
           "fields": [
            "GeoName"
           ],
           "on": "click",
           "resolve": "global",
           "toggle": "event.shiftKey",
           "type": "multi"
          }
         },
         "transform": [
          {
           "filter": {
            "field": "GeoName",
            "oneOf": [
             "Alabama",
             "Alaska",
             "Arizona",
             "Arkansas",
             "California",
             "Colorado",
             "Connecticut",
             "Delaware",
             "District of Columbia",
             "Florida",
             "Georgia",
             "Hawaii",
             "Idaho",
             "Illinois",
             "Indiana",
             "Iowa",
             "Kansas",
             "Kentucky",
             "Louisiana",
             "Maine",
             "Maryland",
             "Massachusetts",
             "Michigan",
             "Minnesota",
             "Mississippi",
             "Missouri",
             "Montana",
             "Nebraska",
             "Nevada",
             "New Hampshire"
            ]
           }
          }
         ]
        },
        {
         "data": {
          "format": {
           "type": "json"
          },
          "url": "altair-data-c7b18632dfb4654bdd26f54e980bd74d.json"
         },
         "encoding": {
          "color": {
           "condition": {
            "field": "GeoName",
            "legend": null,
            "selection": "selector017",
            "type": "nominal"
           },
           "value": "lightgray"
          },
          "size": {
           "value": 120
          },
          "y": {
           "axis": {
            "orient": "right",
            "title": "State"
           },
           "field": "GeoName",
           "type": "nominal"
          }
         },
         "mark": "point",
         "selection": {
          "selector017": {
           "empty": "all",
           "fields": [
            "GeoName"
           ],
           "on": "click",
           "resolve": "global",
           "toggle": "event.shiftKey",
           "type": "multi"
          }
         },
         "transform": [
          {
           "filter": {
            "field": "GeoName",
            "oneOf": [
             "New Jersey",
             "New Mexico",
             "New York",
             "North Carolina",
             "North Dakota",
             "Ohio",
             "Oklahoma",
             "Oregon",
             "Pennsylvania",
             "Rhode Island",
             "South Carolina",
             "South Dakota",
             "Tennessee",
             "Texas",
             "Utah",
             "Vermont",
             "Virginia",
             "Washington",
             "West Virginia",
             "Wisconsin",
             "Wyoming"
            ]
           }
          }
         ]
        }
       ]
      },
      "image/png": "[encoded data removed]",
      "text/plain": [
       "<VegaLite 2 object>\n",
       "\n",
       "If you see this message, it means the renderer has not been properly enabled\n",
       "for the frontend that you are using. For more information, see\n",
       "https://altair-viz.github.io/user_guide/troubleshooting.html\n"
      ]
     },
     "execution_count": 21,
     "metadata": {},
     "output_type": "execute_result"
    }
   ],
   "source": [
    "click = alt.selection_multi(fields = [\"GeoName\"])\n",
    "color = alt.Color(\"GeoName:N\", legend = None)\n",
    "highlight = alt.selection(type = 'single', on = 'mouseover', fields = [\"GeoName\"], nearest = True)\n",
    "\n",
    "\n",
    "bar_chart = alt.Chart().mark_bar().encode(\n",
    "    alt.Y(\"Value:Q\", \n",
    "          axis = alt.Axis(title = \"Per Capita Healthcare Spending (US Dollars)\")),\n",
    "    alt.X(\"GeoName\", \n",
    "          sort = alt.EncodingSortField(field = \"Value\", op = \"sum\", order = \"descending\"), \n",
    "          axis = alt.Axis(title = \"State\")),\n",
    "    tooltip = [\"Value\"],\n",
    "    color = alt.condition(click, color, alt.value('lightgray'))\n",
    ").transform_filter(\n",
    "    alt.FieldEqualPredicate(field = \"Year_txt\", equal = 2017)\n",
    ").add_selection(\n",
    "    click\n",
    ").properties(\n",
    "    width = 650,\n",
    "    title = \"Per Capita Healthcare Spending in 2017 by State\"\n",
    ")\n",
    "\n",
    "line = alt.Chart().mark_line().encode(\n",
    "    alt.X(\"year(Year):T\", \n",
    "          axis = alt.Axis(title = \"Year\")),\n",
    "    alt.Y(\"Value:Q\", \n",
    "          axis = alt.Axis(title = \"Per Capita Healthcare Spending (US Dollars)\")),\n",
    "    color = alt.condition(click, color, alt.value('lightgray')),\n",
    "    size = alt.condition(~highlight, alt.value(2), alt.value(5))\n",
    ").add_selection(\n",
    "    highlight\n",
    ").add_selection(\n",
    "    click\n",
    ").transform_filter(\n",
    "    click\n",
    ").properties(\n",
    "    width = 650,\n",
    "    height = 300\n",
    ")\n",
    "\n",
    "#this serves as a base layer for the text labels\n",
    "line_base = alt.Chart().mark_point().encode(\n",
    "    alt.X(\"Year\", \n",
    "          axis = alt.Axis(title = \"Year\")),\n",
    "    alt.Y(\"Value:Q\", \n",
    "          axis = alt.Axis(title = \"Per Capita Healthcare Spending (US Dollars)\")),\n",
    ").transform_filter(\n",
    "    alt.FieldEqualPredicate(field = \"Year_txt\", equal = 2011)\n",
    ")\n",
    "\n",
    "points = alt.Chart().mark_point().encode(\n",
    "    alt.X(\"year(Year):T\", \n",
    "          axis = alt.Axis(title = \"Year\")),\n",
    "    alt.Y(\"Value:Q\", \n",
    "          axis = alt.Axis(title = \"Per Capita Healthcare Spending (US Dollars)\")),\n",
    "    color = alt.Color(\"GeoName:N\", legend = None),\n",
    "    tooltip = [\"GeoName\", \"year(Year):T\", \"Value\"],\n",
    "    size = alt.value(80)\n",
    ").properties(\n",
    "    width = 650,\n",
    "    height = 300,\n",
    "    title = \"Per Capita Healthcare Spending in 1997-2017 by State\"\n",
    ").transform_filter(\n",
    "    click\n",
    ")\n",
    "\n",
    "text = line_base.mark_text(\n",
    "    align = 'right',\n",
    "    baseline = 'top',\n",
    "    dx = 0,\n",
    "    dy = -10\n",
    ").encode(\n",
    "    text = \"GeoName\",\n",
    "    opacity = alt.condition(~click, alt.value(0), alt.value(1))\n",
    ").transform_filter(\n",
    "    click\n",
    ")\n",
    "\n",
    "first_half = ['Alabama', 'Alaska', 'Arizona', 'Arkansas', 'California',\n",
    "       'Colorado', 'Connecticut', 'Delaware', 'District of Columbia',\n",
    "       'Florida', 'Georgia', 'Hawaii', 'Idaho', 'Illinois', 'Indiana',\n",
    "       'Iowa', 'Kansas', 'Kentucky', 'Louisiana', 'Maine', 'Maryland',\n",
    "       'Massachusetts', 'Michigan', 'Minnesota', 'Mississippi',\n",
    "       'Missouri', 'Montana', 'Nebraska', 'Nevada', 'New Hampshire']\n",
    "\n",
    "second_half = ['New Jersey', 'New Mexico', 'New York', 'North Carolina',\n",
    "       'North Dakota', 'Ohio', 'Oklahoma', 'Oregon', 'Pennsylvania',\n",
    "       'Rhode Island', 'South Carolina', 'South Dakota', 'Tennessee',\n",
    "       'Texas', 'Utah', 'Vermont', 'Virginia', 'Washington',\n",
    "       'West Virginia', 'Wisconsin', 'Wyoming']\n",
    "\n",
    "legend = alt.Chart(health_care).mark_point().encode(\n",
    "    size = alt.value(120),\n",
    "    y =alt.Y('GeoName:N', axis = alt.Axis(orient = 'right', title = \"State\")),\n",
    "    color = alt.condition(click, color, alt.value('lightgray'))\n",
    ").add_selection(\n",
    "    click\n",
    ").transform_filter(\n",
    "    alt.FieldOneOfPredicate(field = \"GeoName\", oneOf = first_half)\n",
    ")\n",
    "\n",
    "legend2 = alt.Chart(health_care).mark_point().encode(\n",
    "    size = alt.value(120),\n",
    "    y =alt.Y('GeoName:N', axis = alt.Axis(orient = 'right', title = \"State\")),\n",
    "    color = alt.condition(click, color, alt.value('lightgray'))\n",
    ").add_selection(\n",
    "    click\n",
    ").transform_filter(\n",
    "    alt.FieldOneOfPredicate(field = \"GeoName\", oneOf = second_half)\n",
    ")\n",
    "\n",
    "viz = alt.vconcat(bar_chart, line + text + points, data = health_care) | legend | legend2\n",
    "viz.save('healthcare-viz.html')\n",
    "viz.save('healthcare-viz-spec.json')\n",
    "viz"
   ]
  },
  {
   "cell_type": "markdown",
   "metadata": {},
   "source": [
    "Horizon chart"
   ]
  },
  {
   "cell_type": "code",
   "execution_count": 57,
   "metadata": {},
   "outputs": [],
   "source": [
    "def makeHorizonChart(state):\n",
    "    area1 = alt.Chart(health_care).mark_area(\n",
    "        clip = True,\n",
    "        interpolate = 'monotone'\n",
    "    ).encode(\n",
    "        alt.X(\"year(Year):T\", scale = alt.Scale(zero = False, nice = False)),\n",
    "        alt.Y(\"Value:Q\", scale = alt.Scale(domain = [0, 4000]), axis = alt.Axis(title = 'Spending')),\n",
    "        opacity = alt.value(0.25)\n",
    "    ).properties(\n",
    "        width = 200,\n",
    "        height = 50,\n",
    "        title = state\n",
    "    ).transform_filter(\n",
    "        alt.FieldEqualPredicate(field = \"GeoName\", equal = state)\n",
    "    )\n",
    "\n",
    "    area2 = area1.encode(\n",
    "        alt.Y('dValue:Q', scale = alt.Scale(domain = [0, 4000])),\n",
    "        opacity = alt.value(0.50)\n",
    "    ).transform_calculate(\n",
    "        \"dValue\", alt.datum.Value - 4000\n",
    "    )\n",
    "\n",
    "    area3 = area2.encode(\n",
    "        alt.Y('ddValue:Q', scale = alt.Scale(domain = [0, 4000])),\n",
    "        opacity = alt.value(0.75)\n",
    "    ).transform_calculate(\n",
    "        'ddValue', alt.datum.Value - 8000\n",
    "    )\n",
    "\n",
    "    return area1 + area2 + area3"
   ]
  },
  {
   "cell_type": "code",
   "execution_count": 42,
   "metadata": {},
   "outputs": [
    {
     "data": {
      "application/vnd.vegalite.v2+json": {
       "$schema": "https://vega.github.io/schema/vega-lite/v2.6.0.json",
       "config": {
        "view": {
         "height": 300,
         "width": 400
        }
       },
       "layer": [
        {
         "data": {
          "format": {
           "type": "json"
          },
          "url": "altair-data-c7b18632dfb4654bdd26f54e980bd74d.json"
         },
         "encoding": {
          "opacity": {
           "value": 0.25
          },
          "x": {
           "field": "Year",
           "scale": {
            "nice": false,
            "zero": false
           },
           "timeUnit": "year",
           "type": "temporal"
          },
          "y": {
           "axis": {
            "title": "Spending"
           },
           "field": "Value",
           "scale": {
            "domain": [
             0,
             4000
            ]
           },
           "type": "quantitative"
          }
         },
         "height": 50,
         "mark": {
          "clip": true,
          "interpolate": "monotone",
          "type": "area"
         },
         "title": "Alaska",
         "transform": [
          {
           "filter": {
            "equal": "Alaska",
            "field": "GeoName"
           }
          }
         ],
         "width": 300
        },
        {
         "data": {
          "format": {
           "type": "json"
          },
          "url": "altair-data-c7b18632dfb4654bdd26f54e980bd74d.json"
         },
         "encoding": {
          "opacity": {
           "value": 0.5
          },
          "x": {
           "field": "Year",
           "scale": {
            "nice": false,
            "zero": false
           },
           "timeUnit": "year",
           "type": "temporal"
          },
          "y": {
           "field": "dValue",
           "scale": {
            "domain": [
             0,
             4000
            ]
           },
           "type": "quantitative"
          }
         },
         "height": 50,
         "mark": {
          "clip": true,
          "interpolate": "monotone",
          "type": "area"
         },
         "title": "Alaska",
         "transform": [
          {
           "filter": {
            "equal": "Alaska",
            "field": "GeoName"
           }
          },
          {
           "as": "dValue",
           "calculate": "(datum.Value - 4000)"
          }
         ],
         "width": 300
        },
        {
         "data": {
          "format": {
           "type": "json"
          },
          "url": "altair-data-c7b18632dfb4654bdd26f54e980bd74d.json"
         },
         "encoding": {
          "opacity": {
           "value": 0.75
          },
          "x": {
           "field": "Year",
           "scale": {
            "nice": false,
            "zero": false
           },
           "timeUnit": "year",
           "type": "temporal"
          },
          "y": {
           "field": "ddValue",
           "scale": {
            "domain": [
             0,
             4000
            ]
           },
           "type": "quantitative"
          }
         },
         "height": 50,
         "mark": {
          "clip": true,
          "interpolate": "monotone",
          "type": "area"
         },
         "title": "Alaska",
         "transform": [
          {
           "filter": {
            "equal": "Alaska",
            "field": "GeoName"
           }
          },
          {
           "as": "dValue",
           "calculate": "(datum.Value - 4000)"
          },
          {
           "as": "ddValue",
           "calculate": "(datum.Value - 8000)"
          }
         ],
         "width": 300
        }
       ]
      },
      "image/png": "[encoded data removed]",
      "text/plain": [
       "<VegaLite 2 object>\n",
       "\n",
       "If you see this message, it means the renderer has not been properly enabled\n",
       "for the frontend that you are using. For more information, see\n",
       "https://altair-viz.github.io/user_guide/troubleshooting.html\n"
      ]
     },
     "execution_count": 42,
     "metadata": {},
     "output_type": "execute_result"
    }
   ],
   "source": [
    "makeHorizonChart(\"Alaska\")"
   ]
  },
  {
   "cell_type": "code",
   "execution_count": 67,
   "metadata": {},
   "outputs": [],
   "source": [
    "states = ['Alabama', 'Alaska', 'Arizona', 'Arkansas', 'California',\n",
    "       'Colorado', 'Connecticut', 'Delaware', 'District of Columbia',\n",
    "       'Florida', 'Georgia', 'Hawaii', 'Idaho', 'Illinois', 'Indiana',\n",
    "       'Iowa', 'Kansas', 'Kentucky', 'Louisiana', 'Maine', 'Maryland',\n",
    "       'Massachusetts', 'Michigan', 'Minnesota', 'Mississippi',\n",
    "       'Missouri', 'Montana', 'Nebraska', 'Nevada', 'New Hampshire', 'New Jersey', 'New Mexico', 'New York', 'North Carolina',\n",
    "       'North Dakota', 'Ohio', 'Oklahoma', 'Oregon', 'Pennsylvania',\n",
    "       'Rhode Island', 'South Carolina', 'South Dakota', 'Tennessee',\n",
    "       'Texas', 'Utah', 'Vermont', 'Virginia', 'Washington',\n",
    "       'West Virginia', 'Wisconsin', 'Wyoming']\n",
    "\n",
    "states_half1 = states[:10]\n",
    "states_half2 = states[10:20]\n",
    "states_half3 = states[20:30]\n",
    "states_half4 = states[30:40]\n",
    "states_half5 = states[40:]"
   ]
  },
  {
   "cell_type": "code",
   "execution_count": 62,
   "metadata": {},
   "outputs": [
    {
     "data": {
      "text/plain": [
       "10"
      ]
     },
     "execution_count": 62,
     "metadata": {},
     "output_type": "execute_result"
    }
   ],
   "source": [
    "len(states[13:23])"
   ]
  },
  {
   "cell_type": "code",
   "execution_count": 73,
   "metadata": {},
   "outputs": [],
   "source": [
    "horizon_chart_states = alt.vconcat()\n",
    "for state in states_half1:\n",
    "    horizon_chart_states &= makeHorizonChart(state)\n",
    "\n",
    "horizon_chart_states2 = alt.vconcat()\n",
    "for state in states_half2:\n",
    "    horizon_chart_states2 &= makeHorizonChart(state)\n",
    "    \n",
    "horizon_chart_states3 = alt.vconcat()\n",
    "for state in states_half3:\n",
    "    horizon_chart_states3 &= makeHorizonChart(state)\n",
    "\n",
    "horizon_chart_states4 = alt.vconcat()\n",
    "for state in states_half4:\n",
    "    horizon_chart_states4 &= makeHorizonChart(state)\n",
    "    \n",
    "horizon_chart_states5 = alt.vconcat()\n",
    "for state in states_half5:\n",
    "    horizon_chart_states5 &= makeHorizonChart(state)\n",
    "\n",
    "horizon_chart_overall = horizon_chart_states | horizon_chart_states2 | horizon_chart_states3 | horizon_chart_states4 | horizon_chart_states5\n",
    "horizon_chart_overall.save('horizon-charts-spec.json')"
   ]
  },
  {
   "cell_type": "code",
   "execution_count": 74,
   "metadata": {},
   "outputs": [
    {
     "data": {
      "application/vnd.vegalite.v2+json": {
       "$schema": "https://vega.github.io/schema/vega-lite/v2.6.0.json",
       "config": {
        "view": {
         "height": 300,
         "width": 400
        }
       },
       "hconcat": [
        {
         "vconcat": [
          {
           "layer": [
            {
             "data": {
              "format": {
               "type": "json"
              },
              "url": "altair-data-c7b18632dfb4654bdd26f54e980bd74d.json"
             },
             "encoding": {
              "opacity": {
               "value": 0.25
              },
              "x": {
               "field": "Year",
               "scale": {
                "nice": false,
                "zero": false
               },
               "timeUnit": "year",
               "type": "temporal"
              },
              "y": {
               "axis": {
                "title": "Spending"
               },
               "field": "Value",
               "scale": {
                "domain": [
                 0,
                 4000
                ]
               },
               "type": "quantitative"
              }
             },
             "height": 50,
             "mark": {
              "clip": true,
              "interpolate": "monotone",
              "type": "area"
             },
             "title": "Alabama",
             "transform": [
              {
               "filter": {
                "equal": "Alabama",
                "field": "GeoName"
               }
              }
             ],
             "width": 200
            },
            {
             "data": {
              "format": {
               "type": "json"
              },
              "url": "altair-data-c7b18632dfb4654bdd26f54e980bd74d.json"
             },
             "encoding": {
              "opacity": {
               "value": 0.5
              },
              "x": {
               "field": "Year",
               "scale": {
                "nice": false,
                "zero": false
               },
               "timeUnit": "year",
               "type": "temporal"
              },
              "y": {
               "field": "dValue",
               "scale": {
                "domain": [
                 0,
                 4000
                ]
               },
               "type": "quantitative"
              }
             },
             "height": 50,
             "mark": {
              "clip": true,
              "interpolate": "monotone",
              "type": "area"
             },
             "title": "Alabama",
             "transform": [
              {
               "filter": {
                "equal": "Alabama",
                "field": "GeoName"
               }
              },
              {
               "as": "dValue",
               "calculate": "(datum.Value - 4000)"
              }
             ],
             "width": 200
            },
            {
             "data": {
              "format": {
               "type": "json"
              },
              "url": "altair-data-c7b18632dfb4654bdd26f54e980bd74d.json"
             },
             "encoding": {
              "opacity": {
               "value": 0.75
              },
              "x": {
               "field": "Year",
               "scale": {
                "nice": false,
                "zero": false
               },
               "timeUnit": "year",
               "type": "temporal"
              },
              "y": {
               "field": "ddValue",
               "scale": {
                "domain": [
                 0,
                 4000
                ]
               },
               "type": "quantitative"
              }
             },
             "height": 50,
             "mark": {
              "clip": true,
              "interpolate": "monotone",
              "type": "area"
             },
             "title": "Alabama",
             "transform": [
              {
               "filter": {
                "equal": "Alabama",
                "field": "GeoName"
               }
              },
              {
               "as": "dValue",
               "calculate": "(datum.Value - 4000)"
              },
              {
               "as": "ddValue",
               "calculate": "(datum.Value - 8000)"
              }
             ],
             "width": 200
            }
           ]
          },
          {
           "layer": [
            {
             "data": {
              "format": {
               "type": "json"
              },
              "url": "altair-data-c7b18632dfb4654bdd26f54e980bd74d.json"
             },
             "encoding": {
              "opacity": {
               "value": 0.25
              },
              "x": {
               "field": "Year",
               "scale": {
                "nice": false,
                "zero": false
               },
               "timeUnit": "year",
               "type": "temporal"
              },
              "y": {
               "axis": {
                "title": "Spending"
               },
               "field": "Value",
               "scale": {
                "domain": [
                 0,
                 4000
                ]
               },
               "type": "quantitative"
              }
             },
             "height": 50,
             "mark": {
              "clip": true,
              "interpolate": "monotone",
              "type": "area"
             },
             "title": "Alaska",
             "transform": [
              {
               "filter": {
                "equal": "Alaska",
                "field": "GeoName"
               }
              }
             ],
             "width": 200
            },
            {
             "data": {
              "format": {
               "type": "json"
              },
              "url": "altair-data-c7b18632dfb4654bdd26f54e980bd74d.json"
             },
             "encoding": {
              "opacity": {
               "value": 0.5
              },
              "x": {
               "field": "Year",
               "scale": {
                "nice": false,
                "zero": false
               },
               "timeUnit": "year",
               "type": "temporal"
              },
              "y": {
               "field": "dValue",
               "scale": {
                "domain": [
                 0,
                 4000
                ]
               },
               "type": "quantitative"
              }
             },
             "height": 50,
             "mark": {
              "clip": true,
              "interpolate": "monotone",
              "type": "area"
             },
             "title": "Alaska",
             "transform": [
              {
               "filter": {
                "equal": "Alaska",
                "field": "GeoName"
               }
              },
              {
               "as": "dValue",
               "calculate": "(datum.Value - 4000)"
              }
             ],
             "width": 200
            },
            {
             "data": {
              "format": {
               "type": "json"
              },
              "url": "altair-data-c7b18632dfb4654bdd26f54e980bd74d.json"
             },
             "encoding": {
              "opacity": {
               "value": 0.75
              },
              "x": {
               "field": "Year",
               "scale": {
                "nice": false,
                "zero": false
               },
               "timeUnit": "year",
               "type": "temporal"
              },
              "y": {
               "field": "ddValue",
               "scale": {
                "domain": [
                 0,
                 4000
                ]
               },
               "type": "quantitative"
              }
             },
             "height": 50,
             "mark": {
              "clip": true,
              "interpolate": "monotone",
              "type": "area"
             },
             "title": "Alaska",
             "transform": [
              {
               "filter": {
                "equal": "Alaska",
                "field": "GeoName"
               }
              },
              {
               "as": "dValue",
               "calculate": "(datum.Value - 4000)"
              },
              {
               "as": "ddValue",
               "calculate": "(datum.Value - 8000)"
              }
             ],
             "width": 200
            }
           ]
          },
          {
           "layer": [
            {
             "data": {
              "format": {
               "type": "json"
              },
              "url": "altair-data-c7b18632dfb4654bdd26f54e980bd74d.json"
             },
             "encoding": {
              "opacity": {
               "value": 0.25
              },
              "x": {
               "field": "Year",
               "scale": {
                "nice": false,
                "zero": false
               },
               "timeUnit": "year",
               "type": "temporal"
              },
              "y": {
               "axis": {
                "title": "Spending"
               },
               "field": "Value",
               "scale": {
                "domain": [
                 0,
                 4000
                ]
               },
               "type": "quantitative"
              }
             },
             "height": 50,
             "mark": {
              "clip": true,
              "interpolate": "monotone",
              "type": "area"
             },
             "title": "Arizona",
             "transform": [
              {
               "filter": {
                "equal": "Arizona",
                "field": "GeoName"
               }
              }
             ],
             "width": 200
            },
            {
             "data": {
              "format": {
               "type": "json"
              },
              "url": "altair-data-c7b18632dfb4654bdd26f54e980bd74d.json"
             },
             "encoding": {
              "opacity": {
               "value": 0.5
              },
              "x": {
               "field": "Year",
               "scale": {
                "nice": false,
                "zero": false
               },
               "timeUnit": "year",
               "type": "temporal"
              },
              "y": {
               "field": "dValue",
               "scale": {
                "domain": [
                 0,
                 4000
                ]
               },
               "type": "quantitative"
              }
             },
             "height": 50,
             "mark": {
              "clip": true,
              "interpolate": "monotone",
              "type": "area"
             },
             "title": "Arizona",
             "transform": [
              {
               "filter": {
                "equal": "Arizona",
                "field": "GeoName"
               }
              },
              {
               "as": "dValue",
               "calculate": "(datum.Value - 4000)"
              }
             ],
             "width": 200
            },
            {
             "data": {
              "format": {
               "type": "json"
              },
              "url": "altair-data-c7b18632dfb4654bdd26f54e980bd74d.json"
             },
             "encoding": {
              "opacity": {
               "value": 0.75
              },
              "x": {
               "field": "Year",
               "scale": {
                "nice": false,
                "zero": false
               },
               "timeUnit": "year",
               "type": "temporal"
              },
              "y": {
               "field": "ddValue",
               "scale": {
                "domain": [
                 0,
                 4000
                ]
               },
               "type": "quantitative"
              }
             },
             "height": 50,
             "mark": {
              "clip": true,
              "interpolate": "monotone",
              "type": "area"
             },
             "title": "Arizona",
             "transform": [
              {
               "filter": {
                "equal": "Arizona",
                "field": "GeoName"
               }
              },
              {
               "as": "dValue",
               "calculate": "(datum.Value - 4000)"
              },
              {
               "as": "ddValue",
               "calculate": "(datum.Value - 8000)"
              }
             ],
             "width": 200
            }
           ]
          },
          {
           "layer": [
            {
             "data": {
              "format": {
               "type": "json"
              },
              "url": "altair-data-c7b18632dfb4654bdd26f54e980bd74d.json"
             },
             "encoding": {
              "opacity": {
               "value": 0.25
              },
              "x": {
               "field": "Year",
               "scale": {
                "nice": false,
                "zero": false
               },
               "timeUnit": "year",
               "type": "temporal"
              },
              "y": {
               "axis": {
                "title": "Spending"
               },
               "field": "Value",
               "scale": {
                "domain": [
                 0,
                 4000
                ]
               },
               "type": "quantitative"
              }
             },
             "height": 50,
             "mark": {
              "clip": true,
              "interpolate": "monotone",
              "type": "area"
             },
             "title": "Arkansas",
             "transform": [
              {
               "filter": {
                "equal": "Arkansas",
                "field": "GeoName"
               }
              }
             ],
             "width": 200
            },
            {
             "data": {
              "format": {
               "type": "json"
              },
              "url": "altair-data-c7b18632dfb4654bdd26f54e980bd74d.json"
             },
             "encoding": {
              "opacity": {
               "value": 0.5
              },
              "x": {
               "field": "Year",
               "scale": {
                "nice": false,
                "zero": false
               },
               "timeUnit": "year",
               "type": "temporal"
              },
              "y": {
               "field": "dValue",
               "scale": {
                "domain": [
                 0,
                 4000
                ]
               },
               "type": "quantitative"
              }
             },
             "height": 50,
             "mark": {
              "clip": true,
              "interpolate": "monotone",
              "type": "area"
             },
             "title": "Arkansas",
             "transform": [
              {
               "filter": {
                "equal": "Arkansas",
                "field": "GeoName"
               }
              },
              {
               "as": "dValue",
               "calculate": "(datum.Value - 4000)"
              }
             ],
             "width": 200
            },
            {
             "data": {
              "format": {
               "type": "json"
              },
              "url": "altair-data-c7b18632dfb4654bdd26f54e980bd74d.json"
             },
             "encoding": {
              "opacity": {
               "value": 0.75
              },
              "x": {
               "field": "Year",
               "scale": {
                "nice": false,
                "zero": false
               },
               "timeUnit": "year",
               "type": "temporal"
              },
              "y": {
               "field": "ddValue",
               "scale": {
                "domain": [
                 0,
                 4000
                ]
               },
               "type": "quantitative"
              }
             },
             "height": 50,
             "mark": {
              "clip": true,
              "interpolate": "monotone",
              "type": "area"
             },
             "title": "Arkansas",
             "transform": [
              {
               "filter": {
                "equal": "Arkansas",
                "field": "GeoName"
               }
              },
              {
               "as": "dValue",
               "calculate": "(datum.Value - 4000)"
              },
              {
               "as": "ddValue",
               "calculate": "(datum.Value - 8000)"
              }
             ],
             "width": 200
            }
           ]
          },
          {
           "layer": [
            {
             "data": {
              "format": {
               "type": "json"
              },
              "url": "altair-data-c7b18632dfb4654bdd26f54e980bd74d.json"
             },
             "encoding": {
              "opacity": {
               "value": 0.25
              },
              "x": {
               "field": "Year",
               "scale": {
                "nice": false,
                "zero": false
               },
               "timeUnit": "year",
               "type": "temporal"
              },
              "y": {
               "axis": {
                "title": "Spending"
               },
               "field": "Value",
               "scale": {
                "domain": [
                 0,
                 4000
                ]
               },
               "type": "quantitative"
              }
             },
             "height": 50,
             "mark": {
              "clip": true,
              "interpolate": "monotone",
              "type": "area"
             },
             "title": "California",
             "transform": [
              {
               "filter": {
                "equal": "California",
                "field": "GeoName"
               }
              }
             ],
             "width": 200
            },
            {
             "data": {
              "format": {
               "type": "json"
              },
              "url": "altair-data-c7b18632dfb4654bdd26f54e980bd74d.json"
             },
             "encoding": {
              "opacity": {
               "value": 0.5
              },
              "x": {
               "field": "Year",
               "scale": {
                "nice": false,
                "zero": false
               },
               "timeUnit": "year",
               "type": "temporal"
              },
              "y": {
               "field": "dValue",
               "scale": {
                "domain": [
                 0,
                 4000
                ]
               },
               "type": "quantitative"
              }
             },
             "height": 50,
             "mark": {
              "clip": true,
              "interpolate": "monotone",
              "type": "area"
             },
             "title": "California",
             "transform": [
              {
               "filter": {
                "equal": "California",
                "field": "GeoName"
               }
              },
              {
               "as": "dValue",
               "calculate": "(datum.Value - 4000)"
              }
             ],
             "width": 200
            },
            {
             "data": {
              "format": {
               "type": "json"
              },
              "url": "altair-data-c7b18632dfb4654bdd26f54e980bd74d.json"
             },
             "encoding": {
              "opacity": {
               "value": 0.75
              },
              "x": {
               "field": "Year",
               "scale": {
                "nice": false,
                "zero": false
               },
               "timeUnit": "year",
               "type": "temporal"
              },
              "y": {
               "field": "ddValue",
               "scale": {
                "domain": [
                 0,
                 4000
                ]
               },
               "type": "quantitative"
              }
             },
             "height": 50,
             "mark": {
              "clip": true,
              "interpolate": "monotone",
              "type": "area"
             },
             "title": "California",
             "transform": [
              {
               "filter": {
                "equal": "California",
                "field": "GeoName"
               }
              },
              {
               "as": "dValue",
               "calculate": "(datum.Value - 4000)"
              },
              {
               "as": "ddValue",
               "calculate": "(datum.Value - 8000)"
              }
             ],
             "width": 200
            }
           ]
          },
          {
           "layer": [
            {
             "data": {
              "format": {
               "type": "json"
              },
              "url": "altair-data-c7b18632dfb4654bdd26f54e980bd74d.json"
             },
             "encoding": {
              "opacity": {
               "value": 0.25
              },
              "x": {
               "field": "Year",
               "scale": {
                "nice": false,
                "zero": false
               },
               "timeUnit": "year",
               "type": "temporal"
              },
              "y": {
               "axis": {
                "title": "Spending"
               },
               "field": "Value",
               "scale": {
                "domain": [
                 0,
                 4000
                ]
               },
               "type": "quantitative"
              }
             },
             "height": 50,
             "mark": {
              "clip": true,
              "interpolate": "monotone",
              "type": "area"
             },
             "title": "Colorado",
             "transform": [
              {
               "filter": {
                "equal": "Colorado",
                "field": "GeoName"
               }
              }
             ],
             "width": 200
            },
            {
             "data": {
              "format": {
               "type": "json"
              },
              "url": "altair-data-c7b18632dfb4654bdd26f54e980bd74d.json"
             },
             "encoding": {
              "opacity": {
               "value": 0.5
              },
              "x": {
               "field": "Year",
               "scale": {
                "nice": false,
                "zero": false
               },
               "timeUnit": "year",
               "type": "temporal"
              },
              "y": {
               "field": "dValue",
               "scale": {
                "domain": [
                 0,
                 4000
                ]
               },
               "type": "quantitative"
              }
             },
             "height": 50,
             "mark": {
              "clip": true,
              "interpolate": "monotone",
              "type": "area"
             },
             "title": "Colorado",
             "transform": [
              {
               "filter": {
                "equal": "Colorado",
                "field": "GeoName"
               }
              },
              {
               "as": "dValue",
               "calculate": "(datum.Value - 4000)"
              }
             ],
             "width": 200
            },
            {
             "data": {
              "format": {
               "type": "json"
              },
              "url": "altair-data-c7b18632dfb4654bdd26f54e980bd74d.json"
             },
             "encoding": {
              "opacity": {
               "value": 0.75
              },
              "x": {
               "field": "Year",
               "scale": {
                "nice": false,
                "zero": false
               },
               "timeUnit": "year",
               "type": "temporal"
              },
              "y": {
               "field": "ddValue",
               "scale": {
                "domain": [
                 0,
                 4000
                ]
               },
               "type": "quantitative"
              }
             },
             "height": 50,
             "mark": {
              "clip": true,
              "interpolate": "monotone",
              "type": "area"
             },
             "title": "Colorado",
             "transform": [
              {
               "filter": {
                "equal": "Colorado",
                "field": "GeoName"
               }
              },
              {
               "as": "dValue",
               "calculate": "(datum.Value - 4000)"
              },
              {
               "as": "ddValue",
               "calculate": "(datum.Value - 8000)"
              }
             ],
             "width": 200
            }
           ]
          },
          {
           "layer": [
            {
             "data": {
              "format": {
               "type": "json"
              },
              "url": "altair-data-c7b18632dfb4654bdd26f54e980bd74d.json"
             },
             "encoding": {
              "opacity": {
               "value": 0.25
              },
              "x": {
               "field": "Year",
               "scale": {
                "nice": false,
                "zero": false
               },
               "timeUnit": "year",
               "type": "temporal"
              },
              "y": {
               "axis": {
                "title": "Spending"
               },
               "field": "Value",
               "scale": {
                "domain": [
                 0,
                 4000
                ]
               },
               "type": "quantitative"
              }
             },
             "height": 50,
             "mark": {
              "clip": true,
              "interpolate": "monotone",
              "type": "area"
             },
             "title": "Connecticut",
             "transform": [
              {
               "filter": {
                "equal": "Connecticut",
                "field": "GeoName"
               }
              }
             ],
             "width": 200
            },
            {
             "data": {
              "format": {
               "type": "json"
              },
              "url": "altair-data-c7b18632dfb4654bdd26f54e980bd74d.json"
             },
             "encoding": {
              "opacity": {
               "value": 0.5
              },
              "x": {
               "field": "Year",
               "scale": {
                "nice": false,
                "zero": false
               },
               "timeUnit": "year",
               "type": "temporal"
              },
              "y": {
               "field": "dValue",
               "scale": {
                "domain": [
                 0,
                 4000
                ]
               },
               "type": "quantitative"
              }
             },
             "height": 50,
             "mark": {
              "clip": true,
              "interpolate": "monotone",
              "type": "area"
             },
             "title": "Connecticut",
             "transform": [
              {
               "filter": {
                "equal": "Connecticut",
                "field": "GeoName"
               }
              },
              {
               "as": "dValue",
               "calculate": "(datum.Value - 4000)"
              }
             ],
             "width": 200
            },
            {
             "data": {
              "format": {
               "type": "json"
              },
              "url": "altair-data-c7b18632dfb4654bdd26f54e980bd74d.json"
             },
             "encoding": {
              "opacity": {
               "value": 0.75
              },
              "x": {
               "field": "Year",
               "scale": {
                "nice": false,
                "zero": false
               },
               "timeUnit": "year",
               "type": "temporal"
              },
              "y": {
               "field": "ddValue",
               "scale": {
                "domain": [
                 0,
                 4000
                ]
               },
               "type": "quantitative"
              }
             },
             "height": 50,
             "mark": {
              "clip": true,
              "interpolate": "monotone",
              "type": "area"
             },
             "title": "Connecticut",
             "transform": [
              {
               "filter": {
                "equal": "Connecticut",
                "field": "GeoName"
               }
              },
              {
               "as": "dValue",
               "calculate": "(datum.Value - 4000)"
              },
              {
               "as": "ddValue",
               "calculate": "(datum.Value - 8000)"
              }
             ],
             "width": 200
            }
           ]
          },
          {
           "layer": [
            {
             "data": {
              "format": {
               "type": "json"
              },
              "url": "altair-data-c7b18632dfb4654bdd26f54e980bd74d.json"
             },
             "encoding": {
              "opacity": {
               "value": 0.25
              },
              "x": {
               "field": "Year",
               "scale": {
                "nice": false,
                "zero": false
               },
               "timeUnit": "year",
               "type": "temporal"
              },
              "y": {
               "axis": {
                "title": "Spending"
               },
               "field": "Value",
               "scale": {
                "domain": [
                 0,
                 4000
                ]
               },
               "type": "quantitative"
              }
             },
             "height": 50,
             "mark": {
              "clip": true,
              "interpolate": "monotone",
              "type": "area"
             },
             "title": "Delaware",
             "transform": [
              {
               "filter": {
                "equal": "Delaware",
                "field": "GeoName"
               }
              }
             ],
             "width": 200
            },
            {
             "data": {
              "format": {
               "type": "json"
              },
              "url": "altair-data-c7b18632dfb4654bdd26f54e980bd74d.json"
             },
             "encoding": {
              "opacity": {
               "value": 0.5
              },
              "x": {
               "field": "Year",
               "scale": {
                "nice": false,
                "zero": false
               },
               "timeUnit": "year",
               "type": "temporal"
              },
              "y": {
               "field": "dValue",
               "scale": {
                "domain": [
                 0,
                 4000
                ]
               },
               "type": "quantitative"
              }
             },
             "height": 50,
             "mark": {
              "clip": true,
              "interpolate": "monotone",
              "type": "area"
             },
             "title": "Delaware",
             "transform": [
              {
               "filter": {
                "equal": "Delaware",
                "field": "GeoName"
               }
              },
              {
               "as": "dValue",
               "calculate": "(datum.Value - 4000)"
              }
             ],
             "width": 200
            },
            {
             "data": {
              "format": {
               "type": "json"
              },
              "url": "altair-data-c7b18632dfb4654bdd26f54e980bd74d.json"
             },
             "encoding": {
              "opacity": {
               "value": 0.75
              },
              "x": {
               "field": "Year",
               "scale": {
                "nice": false,
                "zero": false
               },
               "timeUnit": "year",
               "type": "temporal"
              },
              "y": {
               "field": "ddValue",
               "scale": {
                "domain": [
                 0,
                 4000
                ]
               },
               "type": "quantitative"
              }
             },
             "height": 50,
             "mark": {
              "clip": true,
              "interpolate": "monotone",
              "type": "area"
             },
             "title": "Delaware",
             "transform": [
              {
               "filter": {
                "equal": "Delaware",
                "field": "GeoName"
               }
              },
              {
               "as": "dValue",
               "calculate": "(datum.Value - 4000)"
              },
              {
               "as": "ddValue",
               "calculate": "(datum.Value - 8000)"
              }
             ],
             "width": 200
            }
           ]
          },
          {
           "layer": [
            {
             "data": {
              "format": {
               "type": "json"
              },
              "url": "altair-data-c7b18632dfb4654bdd26f54e980bd74d.json"
             },
             "encoding": {
              "opacity": {
               "value": 0.25
              },
              "x": {
               "field": "Year",
               "scale": {
                "nice": false,
                "zero": false
               },
               "timeUnit": "year",
               "type": "temporal"
              },
              "y": {
               "axis": {
                "title": "Spending"
               },
               "field": "Value",
               "scale": {
                "domain": [
                 0,
                 4000
                ]
               },
               "type": "quantitative"
              }
             },
             "height": 50,
             "mark": {
              "clip": true,
              "interpolate": "monotone",
              "type": "area"
             },
             "title": "District of Columbia",
             "transform": [
              {
               "filter": {
                "equal": "District of Columbia",
                "field": "GeoName"
               }
              }
             ],
             "width": 200
            },
            {
             "data": {
              "format": {
               "type": "json"
              },
              "url": "altair-data-c7b18632dfb4654bdd26f54e980bd74d.json"
             },
             "encoding": {
              "opacity": {
               "value": 0.5
              },
              "x": {
               "field": "Year",
               "scale": {
                "nice": false,
                "zero": false
               },
               "timeUnit": "year",
               "type": "temporal"
              },
              "y": {
               "field": "dValue",
               "scale": {
                "domain": [
                 0,
                 4000
                ]
               },
               "type": "quantitative"
              }
             },
             "height": 50,
             "mark": {
              "clip": true,
              "interpolate": "monotone",
              "type": "area"
             },
             "title": "District of Columbia",
             "transform": [
              {
               "filter": {
                "equal": "District of Columbia",
                "field": "GeoName"
               }
              },
              {
               "as": "dValue",
               "calculate": "(datum.Value - 4000)"
              }
             ],
             "width": 200
            },
            {
             "data": {
              "format": {
               "type": "json"
              },
              "url": "altair-data-c7b18632dfb4654bdd26f54e980bd74d.json"
             },
             "encoding": {
              "opacity": {
               "value": 0.75
              },
              "x": {
               "field": "Year",
               "scale": {
                "nice": false,
                "zero": false
               },
               "timeUnit": "year",
               "type": "temporal"
              },
              "y": {
               "field": "ddValue",
               "scale": {
                "domain": [
                 0,
                 4000
                ]
               },
               "type": "quantitative"
              }
             },
             "height": 50,
             "mark": {
              "clip": true,
              "interpolate": "monotone",
              "type": "area"
             },
             "title": "District of Columbia",
             "transform": [
              {
               "filter": {
                "equal": "District of Columbia",
                "field": "GeoName"
               }
              },
              {
               "as": "dValue",
               "calculate": "(datum.Value - 4000)"
              },
              {
               "as": "ddValue",
               "calculate": "(datum.Value - 8000)"
              }
             ],
             "width": 200
            }
           ]
          },
          {
           "layer": [
            {
             "data": {
              "format": {
               "type": "json"
              },
              "url": "altair-data-c7b18632dfb4654bdd26f54e980bd74d.json"
             },
             "encoding": {
              "opacity": {
               "value": 0.25
              },
              "x": {
               "field": "Year",
               "scale": {
                "nice": false,
                "zero": false
               },
               "timeUnit": "year",
               "type": "temporal"
              },
              "y": {
               "axis": {
                "title": "Spending"
               },
               "field": "Value",
               "scale": {
                "domain": [
                 0,
                 4000
                ]
               },
               "type": "quantitative"
              }
             },
             "height": 50,
             "mark": {
              "clip": true,
              "interpolate": "monotone",
              "type": "area"
             },
             "title": "Florida",
             "transform": [
              {
               "filter": {
                "equal": "Florida",
                "field": "GeoName"
               }
              }
             ],
             "width": 200
            },
            {
             "data": {
              "format": {
               "type": "json"
              },
              "url": "altair-data-c7b18632dfb4654bdd26f54e980bd74d.json"
             },
             "encoding": {
              "opacity": {
               "value": 0.5
              },
              "x": {
               "field": "Year",
               "scale": {
                "nice": false,
                "zero": false
               },
               "timeUnit": "year",
               "type": "temporal"
              },
              "y": {
               "field": "dValue",
               "scale": {
                "domain": [
                 0,
                 4000
                ]
               },
               "type": "quantitative"
              }
             },
             "height": 50,
             "mark": {
              "clip": true,
              "interpolate": "monotone",
              "type": "area"
             },
             "title": "Florida",
             "transform": [
              {
               "filter": {
                "equal": "Florida",
                "field": "GeoName"
               }
              },
              {
               "as": "dValue",
               "calculate": "(datum.Value - 4000)"
              }
             ],
             "width": 200
            },
            {
             "data": {
              "format": {
               "type": "json"
              },
              "url": "altair-data-c7b18632dfb4654bdd26f54e980bd74d.json"
             },
             "encoding": {
              "opacity": {
               "value": 0.75
              },
              "x": {
               "field": "Year",
               "scale": {
                "nice": false,
                "zero": false
               },
               "timeUnit": "year",
               "type": "temporal"
              },
              "y": {
               "field": "ddValue",
               "scale": {
                "domain": [
                 0,
                 4000
                ]
               },
               "type": "quantitative"
              }
             },
             "height": 50,
             "mark": {
              "clip": true,
              "interpolate": "monotone",
              "type": "area"
             },
             "title": "Florida",
             "transform": [
              {
               "filter": {
                "equal": "Florida",
                "field": "GeoName"
               }
              },
              {
               "as": "dValue",
               "calculate": "(datum.Value - 4000)"
              },
              {
               "as": "ddValue",
               "calculate": "(datum.Value - 8000)"
              }
             ],
             "width": 200
            }
           ]
          }
         ]
        },
        {
         "vconcat": [
          {
           "layer": [
            {
             "data": {
              "format": {
               "type": "json"
              },
              "url": "altair-data-c7b18632dfb4654bdd26f54e980bd74d.json"
             },
             "encoding": {
              "opacity": {
               "value": 0.25
              },
              "x": {
               "field": "Year",
               "scale": {
                "nice": false,
                "zero": false
               },
               "timeUnit": "year",
               "type": "temporal"
              },
              "y": {
               "axis": {
                "title": "Spending"
               },
               "field": "Value",
               "scale": {
                "domain": [
                 0,
                 4000
                ]
               },
               "type": "quantitative"
              }
             },
             "height": 50,
             "mark": {
              "clip": true,
              "interpolate": "monotone",
              "type": "area"
             },
             "title": "Georgia",
             "transform": [
              {
               "filter": {
                "equal": "Georgia",
                "field": "GeoName"
               }
              }
             ],
             "width": 200
            },
            {
             "data": {
              "format": {
               "type": "json"
              },
              "url": "altair-data-c7b18632dfb4654bdd26f54e980bd74d.json"
             },
             "encoding": {
              "opacity": {
               "value": 0.5
              },
              "x": {
               "field": "Year",
               "scale": {
                "nice": false,
                "zero": false
               },
               "timeUnit": "year",
               "type": "temporal"
              },
              "y": {
               "field": "dValue",
               "scale": {
                "domain": [
                 0,
                 4000
                ]
               },
               "type": "quantitative"
              }
             },
             "height": 50,
             "mark": {
              "clip": true,
              "interpolate": "monotone",
              "type": "area"
             },
             "title": "Georgia",
             "transform": [
              {
               "filter": {
                "equal": "Georgia",
                "field": "GeoName"
               }
              },
              {
               "as": "dValue",
               "calculate": "(datum.Value - 4000)"
              }
             ],
             "width": 200
            },
            {
             "data": {
              "format": {
               "type": "json"
              },
              "url": "altair-data-c7b18632dfb4654bdd26f54e980bd74d.json"
             },
             "encoding": {
              "opacity": {
               "value": 0.75
              },
              "x": {
               "field": "Year",
               "scale": {
                "nice": false,
                "zero": false
               },
               "timeUnit": "year",
               "type": "temporal"
              },
              "y": {
               "field": "ddValue",
               "scale": {
                "domain": [
                 0,
                 4000
                ]
               },
               "type": "quantitative"
              }
             },
             "height": 50,
             "mark": {
              "clip": true,
              "interpolate": "monotone",
              "type": "area"
             },
             "title": "Georgia",
             "transform": [
              {
               "filter": {
                "equal": "Georgia",
                "field": "GeoName"
               }
              },
              {
               "as": "dValue",
               "calculate": "(datum.Value - 4000)"
              },
              {
               "as": "ddValue",
               "calculate": "(datum.Value - 8000)"
              }
             ],
             "width": 200
            }
           ]
          },
          {
           "layer": [
            {
             "data": {
              "format": {
               "type": "json"
              },
              "url": "altair-data-c7b18632dfb4654bdd26f54e980bd74d.json"
             },
             "encoding": {
              "opacity": {
               "value": 0.25
              },
              "x": {
               "field": "Year",
               "scale": {
                "nice": false,
                "zero": false
               },
               "timeUnit": "year",
               "type": "temporal"
              },
              "y": {
               "axis": {
                "title": "Spending"
               },
               "field": "Value",
               "scale": {
                "domain": [
                 0,
                 4000
                ]
               },
               "type": "quantitative"
              }
             },
             "height": 50,
             "mark": {
              "clip": true,
              "interpolate": "monotone",
              "type": "area"
             },
             "title": "Hawaii",
             "transform": [
              {
               "filter": {
                "equal": "Hawaii",
                "field": "GeoName"
               }
              }
             ],
             "width": 200
            },
            {
             "data": {
              "format": {
               "type": "json"
              },
              "url": "altair-data-c7b18632dfb4654bdd26f54e980bd74d.json"
             },
             "encoding": {
              "opacity": {
               "value": 0.5
              },
              "x": {
               "field": "Year",
               "scale": {
                "nice": false,
                "zero": false
               },
               "timeUnit": "year",
               "type": "temporal"
              },
              "y": {
               "field": "dValue",
               "scale": {
                "domain": [
                 0,
                 4000
                ]
               },
               "type": "quantitative"
              }
             },
             "height": 50,
             "mark": {
              "clip": true,
              "interpolate": "monotone",
              "type": "area"
             },
             "title": "Hawaii",
             "transform": [
              {
               "filter": {
                "equal": "Hawaii",
                "field": "GeoName"
               }
              },
              {
               "as": "dValue",
               "calculate": "(datum.Value - 4000)"
              }
             ],
             "width": 200
            },
            {
             "data": {
              "format": {
               "type": "json"
              },
              "url": "altair-data-c7b18632dfb4654bdd26f54e980bd74d.json"
             },
             "encoding": {
              "opacity": {
               "value": 0.75
              },
              "x": {
               "field": "Year",
               "scale": {
                "nice": false,
                "zero": false
               },
               "timeUnit": "year",
               "type": "temporal"
              },
              "y": {
               "field": "ddValue",
               "scale": {
                "domain": [
                 0,
                 4000
                ]
               },
               "type": "quantitative"
              }
             },
             "height": 50,
             "mark": {
              "clip": true,
              "interpolate": "monotone",
              "type": "area"
             },
             "title": "Hawaii",
             "transform": [
              {
               "filter": {
                "equal": "Hawaii",
                "field": "GeoName"
               }
              },
              {
               "as": "dValue",
               "calculate": "(datum.Value - 4000)"
              },
              {
               "as": "ddValue",
               "calculate": "(datum.Value - 8000)"
              }
             ],
             "width": 200
            }
           ]
          },
          {
           "layer": [
            {
             "data": {
              "format": {
               "type": "json"
              },
              "url": "altair-data-c7b18632dfb4654bdd26f54e980bd74d.json"
             },
             "encoding": {
              "opacity": {
               "value": 0.25
              },
              "x": {
               "field": "Year",
               "scale": {
                "nice": false,
                "zero": false
               },
               "timeUnit": "year",
               "type": "temporal"
              },
              "y": {
               "axis": {
                "title": "Spending"
               },
               "field": "Value",
               "scale": {
                "domain": [
                 0,
                 4000
                ]
               },
               "type": "quantitative"
              }
             },
             "height": 50,
             "mark": {
              "clip": true,
              "interpolate": "monotone",
              "type": "area"
             },
             "title": "Idaho",
             "transform": [
              {
               "filter": {
                "equal": "Idaho",
                "field": "GeoName"
               }
              }
             ],
             "width": 200
            },
            {
             "data": {
              "format": {
               "type": "json"
              },
              "url": "altair-data-c7b18632dfb4654bdd26f54e980bd74d.json"
             },
             "encoding": {
              "opacity": {
               "value": 0.5
              },
              "x": {
               "field": "Year",
               "scale": {
                "nice": false,
                "zero": false
               },
               "timeUnit": "year",
               "type": "temporal"
              },
              "y": {
               "field": "dValue",
               "scale": {
                "domain": [
                 0,
                 4000
                ]
               },
               "type": "quantitative"
              }
             },
             "height": 50,
             "mark": {
              "clip": true,
              "interpolate": "monotone",
              "type": "area"
             },
             "title": "Idaho",
             "transform": [
              {
               "filter": {
                "equal": "Idaho",
                "field": "GeoName"
               }
              },
              {
               "as": "dValue",
               "calculate": "(datum.Value - 4000)"
              }
             ],
             "width": 200
            },
            {
             "data": {
              "format": {
               "type": "json"
              },
              "url": "altair-data-c7b18632dfb4654bdd26f54e980bd74d.json"
             },
             "encoding": {
              "opacity": {
               "value": 0.75
              },
              "x": {
               "field": "Year",
               "scale": {
                "nice": false,
                "zero": false
               },
               "timeUnit": "year",
               "type": "temporal"
              },
              "y": {
               "field": "ddValue",
               "scale": {
                "domain": [
                 0,
                 4000
                ]
               },
               "type": "quantitative"
              }
             },
             "height": 50,
             "mark": {
              "clip": true,
              "interpolate": "monotone",
              "type": "area"
             },
             "title": "Idaho",
             "transform": [
              {
               "filter": {
                "equal": "Idaho",
                "field": "GeoName"
               }
              },
              {
               "as": "dValue",
               "calculate": "(datum.Value - 4000)"
              },
              {
               "as": "ddValue",
               "calculate": "(datum.Value - 8000)"
              }
             ],
             "width": 200
            }
           ]
          },
          {
           "layer": [
            {
             "data": {
              "format": {
               "type": "json"
              },
              "url": "altair-data-c7b18632dfb4654bdd26f54e980bd74d.json"
             },
             "encoding": {
              "opacity": {
               "value": 0.25
              },
              "x": {
               "field": "Year",
               "scale": {
                "nice": false,
                "zero": false
               },
               "timeUnit": "year",
               "type": "temporal"
              },
              "y": {
               "axis": {
                "title": "Spending"
               },
               "field": "Value",
               "scale": {
                "domain": [
                 0,
                 4000
                ]
               },
               "type": "quantitative"
              }
             },
             "height": 50,
             "mark": {
              "clip": true,
              "interpolate": "monotone",
              "type": "area"
             },
             "title": "Illinois",
             "transform": [
              {
               "filter": {
                "equal": "Illinois",
                "field": "GeoName"
               }
              }
             ],
             "width": 200
            },
            {
             "data": {
              "format": {
               "type": "json"
              },
              "url": "altair-data-c7b18632dfb4654bdd26f54e980bd74d.json"
             },
             "encoding": {
              "opacity": {
               "value": 0.5
              },
              "x": {
               "field": "Year",
               "scale": {
                "nice": false,
                "zero": false
               },
               "timeUnit": "year",
               "type": "temporal"
              },
              "y": {
               "field": "dValue",
               "scale": {
                "domain": [
                 0,
                 4000
                ]
               },
               "type": "quantitative"
              }
             },
             "height": 50,
             "mark": {
              "clip": true,
              "interpolate": "monotone",
              "type": "area"
             },
             "title": "Illinois",
             "transform": [
              {
               "filter": {
                "equal": "Illinois",
                "field": "GeoName"
               }
              },
              {
               "as": "dValue",
               "calculate": "(datum.Value - 4000)"
              }
             ],
             "width": 200
            },
            {
             "data": {
              "format": {
               "type": "json"
              },
              "url": "altair-data-c7b18632dfb4654bdd26f54e980bd74d.json"
             },
             "encoding": {
              "opacity": {
               "value": 0.75
              },
              "x": {
               "field": "Year",
               "scale": {
                "nice": false,
                "zero": false
               },
               "timeUnit": "year",
               "type": "temporal"
              },
              "y": {
               "field": "ddValue",
               "scale": {
                "domain": [
                 0,
                 4000
                ]
               },
               "type": "quantitative"
              }
             },
             "height": 50,
             "mark": {
              "clip": true,
              "interpolate": "monotone",
              "type": "area"
             },
             "title": "Illinois",
             "transform": [
              {
               "filter": {
                "equal": "Illinois",
                "field": "GeoName"
               }
              },
              {
               "as": "dValue",
               "calculate": "(datum.Value - 4000)"
              },
              {
               "as": "ddValue",
               "calculate": "(datum.Value - 8000)"
              }
             ],
             "width": 200
            }
           ]
          },
          {
           "layer": [
            {
             "data": {
              "format": {
               "type": "json"
              },
              "url": "altair-data-c7b18632dfb4654bdd26f54e980bd74d.json"
             },
             "encoding": {
              "opacity": {
               "value": 0.25
              },
              "x": {
               "field": "Year",
               "scale": {
                "nice": false,
                "zero": false
               },
               "timeUnit": "year",
               "type": "temporal"
              },
              "y": {
               "axis": {
                "title": "Spending"
               },
               "field": "Value",
               "scale": {
                "domain": [
                 0,
                 4000
                ]
               },
               "type": "quantitative"
              }
             },
             "height": 50,
             "mark": {
              "clip": true,
              "interpolate": "monotone",
              "type": "area"
             },
             "title": "Indiana",
             "transform": [
              {
               "filter": {
                "equal": "Indiana",
                "field": "GeoName"
               }
              }
             ],
             "width": 200
            },
            {
             "data": {
              "format": {
               "type": "json"
              },
              "url": "altair-data-c7b18632dfb4654bdd26f54e980bd74d.json"
             },
             "encoding": {
              "opacity": {
               "value": 0.5
              },
              "x": {
               "field": "Year",
               "scale": {
                "nice": false,
                "zero": false
               },
               "timeUnit": "year",
               "type": "temporal"
              },
              "y": {
               "field": "dValue",
               "scale": {
                "domain": [
                 0,
                 4000
                ]
               },
               "type": "quantitative"
              }
             },
             "height": 50,
             "mark": {
              "clip": true,
              "interpolate": "monotone",
              "type": "area"
             },
             "title": "Indiana",
             "transform": [
              {
               "filter": {
                "equal": "Indiana",
                "field": "GeoName"
               }
              },
              {
               "as": "dValue",
               "calculate": "(datum.Value - 4000)"
              }
             ],
             "width": 200
            },
            {
             "data": {
              "format": {
               "type": "json"
              },
              "url": "altair-data-c7b18632dfb4654bdd26f54e980bd74d.json"
             },
             "encoding": {
              "opacity": {
               "value": 0.75
              },
              "x": {
               "field": "Year",
               "scale": {
                "nice": false,
                "zero": false
               },
               "timeUnit": "year",
               "type": "temporal"
              },
              "y": {
               "field": "ddValue",
               "scale": {
                "domain": [
                 0,
                 4000
                ]
               },
               "type": "quantitative"
              }
             },
             "height": 50,
             "mark": {
              "clip": true,
              "interpolate": "monotone",
              "type": "area"
             },
             "title": "Indiana",
             "transform": [
              {
               "filter": {
                "equal": "Indiana",
                "field": "GeoName"
               }
              },
              {
               "as": "dValue",
               "calculate": "(datum.Value - 4000)"
              },
              {
               "as": "ddValue",
               "calculate": "(datum.Value - 8000)"
              }
             ],
             "width": 200
            }
           ]
          },
          {
           "layer": [
            {
             "data": {
              "format": {
               "type": "json"
              },
              "url": "altair-data-c7b18632dfb4654bdd26f54e980bd74d.json"
             },
             "encoding": {
              "opacity": {
               "value": 0.25
              },
              "x": {
               "field": "Year",
               "scale": {
                "nice": false,
                "zero": false
               },
               "timeUnit": "year",
               "type": "temporal"
              },
              "y": {
               "axis": {
                "title": "Spending"
               },
               "field": "Value",
               "scale": {
                "domain": [
                 0,
                 4000
                ]
               },
               "type": "quantitative"
              }
             },
             "height": 50,
             "mark": {
              "clip": true,
              "interpolate": "monotone",
              "type": "area"
             },
             "title": "Iowa",
             "transform": [
              {
               "filter": {
                "equal": "Iowa",
                "field": "GeoName"
               }
              }
             ],
             "width": 200
            },
            {
             "data": {
              "format": {
               "type": "json"
              },
              "url": "altair-data-c7b18632dfb4654bdd26f54e980bd74d.json"
             },
             "encoding": {
              "opacity": {
               "value": 0.5
              },
              "x": {
               "field": "Year",
               "scale": {
                "nice": false,
                "zero": false
               },
               "timeUnit": "year",
               "type": "temporal"
              },
              "y": {
               "field": "dValue",
               "scale": {
                "domain": [
                 0,
                 4000
                ]
               },
               "type": "quantitative"
              }
             },
             "height": 50,
             "mark": {
              "clip": true,
              "interpolate": "monotone",
              "type": "area"
             },
             "title": "Iowa",
             "transform": [
              {
               "filter": {
                "equal": "Iowa",
                "field": "GeoName"
               }
              },
              {
               "as": "dValue",
               "calculate": "(datum.Value - 4000)"
              }
             ],
             "width": 200
            },
            {
             "data": {
              "format": {
               "type": "json"
              },
              "url": "altair-data-c7b18632dfb4654bdd26f54e980bd74d.json"
             },
             "encoding": {
              "opacity": {
               "value": 0.75
              },
              "x": {
               "field": "Year",
               "scale": {
                "nice": false,
                "zero": false
               },
               "timeUnit": "year",
               "type": "temporal"
              },
              "y": {
               "field": "ddValue",
               "scale": {
                "domain": [
                 0,
                 4000
                ]
               },
               "type": "quantitative"
              }
             },
             "height": 50,
             "mark": {
              "clip": true,
              "interpolate": "monotone",
              "type": "area"
             },
             "title": "Iowa",
             "transform": [
              {
               "filter": {
                "equal": "Iowa",
                "field": "GeoName"
               }
              },
              {
               "as": "dValue",
               "calculate": "(datum.Value - 4000)"
              },
              {
               "as": "ddValue",
               "calculate": "(datum.Value - 8000)"
              }
             ],
             "width": 200
            }
           ]
          },
          {
           "layer": [
            {
             "data": {
              "format": {
               "type": "json"
              },
              "url": "altair-data-c7b18632dfb4654bdd26f54e980bd74d.json"
             },
             "encoding": {
              "opacity": {
               "value": 0.25
              },
              "x": {
               "field": "Year",
               "scale": {
                "nice": false,
                "zero": false
               },
               "timeUnit": "year",
               "type": "temporal"
              },
              "y": {
               "axis": {
                "title": "Spending"
               },
               "field": "Value",
               "scale": {
                "domain": [
                 0,
                 4000
                ]
               },
               "type": "quantitative"
              }
             },
             "height": 50,
             "mark": {
              "clip": true,
              "interpolate": "monotone",
              "type": "area"
             },
             "title": "Kansas",
             "transform": [
              {
               "filter": {
                "equal": "Kansas",
                "field": "GeoName"
               }
              }
             ],
             "width": 200
            },
            {
             "data": {
              "format": {
               "type": "json"
              },
              "url": "altair-data-c7b18632dfb4654bdd26f54e980bd74d.json"
             },
             "encoding": {
              "opacity": {
               "value": 0.5
              },
              "x": {
               "field": "Year",
               "scale": {
                "nice": false,
                "zero": false
               },
               "timeUnit": "year",
               "type": "temporal"
              },
              "y": {
               "field": "dValue",
               "scale": {
                "domain": [
                 0,
                 4000
                ]
               },
               "type": "quantitative"
              }
             },
             "height": 50,
             "mark": {
              "clip": true,
              "interpolate": "monotone",
              "type": "area"
             },
             "title": "Kansas",
             "transform": [
              {
               "filter": {
                "equal": "Kansas",
                "field": "GeoName"
               }
              },
              {
               "as": "dValue",
               "calculate": "(datum.Value - 4000)"
              }
             ],
             "width": 200
            },
            {
             "data": {
              "format": {
               "type": "json"
              },
              "url": "altair-data-c7b18632dfb4654bdd26f54e980bd74d.json"
             },
             "encoding": {
              "opacity": {
               "value": 0.75
              },
              "x": {
               "field": "Year",
               "scale": {
                "nice": false,
                "zero": false
               },
               "timeUnit": "year",
               "type": "temporal"
              },
              "y": {
               "field": "ddValue",
               "scale": {
                "domain": [
                 0,
                 4000
                ]
               },
               "type": "quantitative"
              }
             },
             "height": 50,
             "mark": {
              "clip": true,
              "interpolate": "monotone",
              "type": "area"
             },
             "title": "Kansas",
             "transform": [
              {
               "filter": {
                "equal": "Kansas",
                "field": "GeoName"
               }
              },
              {
               "as": "dValue",
               "calculate": "(datum.Value - 4000)"
              },
              {
               "as": "ddValue",
               "calculate": "(datum.Value - 8000)"
              }
             ],
             "width": 200
            }
           ]
          },
          {
           "layer": [
            {
             "data": {
              "format": {
               "type": "json"
              },
              "url": "altair-data-c7b18632dfb4654bdd26f54e980bd74d.json"
             },
             "encoding": {
              "opacity": {
               "value": 0.25
              },
              "x": {
               "field": "Year",
               "scale": {
                "nice": false,
                "zero": false
               },
               "timeUnit": "year",
               "type": "temporal"
              },
              "y": {
               "axis": {
                "title": "Spending"
               },
               "field": "Value",
               "scale": {
                "domain": [
                 0,
                 4000
                ]
               },
               "type": "quantitative"
              }
             },
             "height": 50,
             "mark": {
              "clip": true,
              "interpolate": "monotone",
              "type": "area"
             },
             "title": "Kentucky",
             "transform": [
              {
               "filter": {
                "equal": "Kentucky",
                "field": "GeoName"
               }
              }
             ],
             "width": 200
            },
            {
             "data": {
              "format": {
               "type": "json"
              },
              "url": "altair-data-c7b18632dfb4654bdd26f54e980bd74d.json"
             },
             "encoding": {
              "opacity": {
               "value": 0.5
              },
              "x": {
               "field": "Year",
               "scale": {
                "nice": false,
                "zero": false
               },
               "timeUnit": "year",
               "type": "temporal"
              },
              "y": {
               "field": "dValue",
               "scale": {
                "domain": [
                 0,
                 4000
                ]
               },
               "type": "quantitative"
              }
             },
             "height": 50,
             "mark": {
              "clip": true,
              "interpolate": "monotone",
              "type": "area"
             },
             "title": "Kentucky",
             "transform": [
              {
               "filter": {
                "equal": "Kentucky",
                "field": "GeoName"
               }
              },
              {
               "as": "dValue",
               "calculate": "(datum.Value - 4000)"
              }
             ],
             "width": 200
            },
            {
             "data": {
              "format": {
               "type": "json"
              },
              "url": "altair-data-c7b18632dfb4654bdd26f54e980bd74d.json"
             },
             "encoding": {
              "opacity": {
               "value": 0.75
              },
              "x": {
               "field": "Year",
               "scale": {
                "nice": false,
                "zero": false
               },
               "timeUnit": "year",
               "type": "temporal"
              },
              "y": {
               "field": "ddValue",
               "scale": {
                "domain": [
                 0,
                 4000
                ]
               },
               "type": "quantitative"
              }
             },
             "height": 50,
             "mark": {
              "clip": true,
              "interpolate": "monotone",
              "type": "area"
             },
             "title": "Kentucky",
             "transform": [
              {
               "filter": {
                "equal": "Kentucky",
                "field": "GeoName"
               }
              },
              {
               "as": "dValue",
               "calculate": "(datum.Value - 4000)"
              },
              {
               "as": "ddValue",
               "calculate": "(datum.Value - 8000)"
              }
             ],
             "width": 200
            }
           ]
          },
          {
           "layer": [
            {
             "data": {
              "format": {
               "type": "json"
              },
              "url": "altair-data-c7b18632dfb4654bdd26f54e980bd74d.json"
             },
             "encoding": {
              "opacity": {
               "value": 0.25
              },
              "x": {
               "field": "Year",
               "scale": {
                "nice": false,
                "zero": false
               },
               "timeUnit": "year",
               "type": "temporal"
              },
              "y": {
               "axis": {
                "title": "Spending"
               },
               "field": "Value",
               "scale": {
                "domain": [
                 0,
                 4000
                ]
               },
               "type": "quantitative"
              }
             },
             "height": 50,
             "mark": {
              "clip": true,
              "interpolate": "monotone",
              "type": "area"
             },
             "title": "Louisiana",
             "transform": [
              {
               "filter": {
                "equal": "Louisiana",
                "field": "GeoName"
               }
              }
             ],
             "width": 200
            },
            {
             "data": {
              "format": {
               "type": "json"
              },
              "url": "altair-data-c7b18632dfb4654bdd26f54e980bd74d.json"
             },
             "encoding": {
              "opacity": {
               "value": 0.5
              },
              "x": {
               "field": "Year",
               "scale": {
                "nice": false,
                "zero": false
               },
               "timeUnit": "year",
               "type": "temporal"
              },
              "y": {
               "field": "dValue",
               "scale": {
                "domain": [
                 0,
                 4000
                ]
               },
               "type": "quantitative"
              }
             },
             "height": 50,
             "mark": {
              "clip": true,
              "interpolate": "monotone",
              "type": "area"
             },
             "title": "Louisiana",
             "transform": [
              {
               "filter": {
                "equal": "Louisiana",
                "field": "GeoName"
               }
              },
              {
               "as": "dValue",
               "calculate": "(datum.Value - 4000)"
              }
             ],
             "width": 200
            },
            {
             "data": {
              "format": {
               "type": "json"
              },
              "url": "altair-data-c7b18632dfb4654bdd26f54e980bd74d.json"
             },
             "encoding": {
              "opacity": {
               "value": 0.75
              },
              "x": {
               "field": "Year",
               "scale": {
                "nice": false,
                "zero": false
               },
               "timeUnit": "year",
               "type": "temporal"
              },
              "y": {
               "field": "ddValue",
               "scale": {
                "domain": [
                 0,
                 4000
                ]
               },
               "type": "quantitative"
              }
             },
             "height": 50,
             "mark": {
              "clip": true,
              "interpolate": "monotone",
              "type": "area"
             },
             "title": "Louisiana",
             "transform": [
              {
               "filter": {
                "equal": "Louisiana",
                "field": "GeoName"
               }
              },
              {
               "as": "dValue",
               "calculate": "(datum.Value - 4000)"
              },
              {
               "as": "ddValue",
               "calculate": "(datum.Value - 8000)"
              }
             ],
             "width": 200
            }
           ]
          },
          {
           "layer": [
            {
             "data": {
              "format": {
               "type": "json"
              },
              "url": "altair-data-c7b18632dfb4654bdd26f54e980bd74d.json"
             },
             "encoding": {
              "opacity": {
               "value": 0.25
              },
              "x": {
               "field": "Year",
               "scale": {
                "nice": false,
                "zero": false
               },
               "timeUnit": "year",
               "type": "temporal"
              },
              "y": {
               "axis": {
                "title": "Spending"
               },
               "field": "Value",
               "scale": {
                "domain": [
                 0,
                 4000
                ]
               },
               "type": "quantitative"
              }
             },
             "height": 50,
             "mark": {
              "clip": true,
              "interpolate": "monotone",
              "type": "area"
             },
             "title": "Maine",
             "transform": [
              {
               "filter": {
                "equal": "Maine",
                "field": "GeoName"
               }
              }
             ],
             "width": 200
            },
            {
             "data": {
              "format": {
               "type": "json"
              },
              "url": "altair-data-c7b18632dfb4654bdd26f54e980bd74d.json"
             },
             "encoding": {
              "opacity": {
               "value": 0.5
              },
              "x": {
               "field": "Year",
               "scale": {
                "nice": false,
                "zero": false
               },
               "timeUnit": "year",
               "type": "temporal"
              },
              "y": {
               "field": "dValue",
               "scale": {
                "domain": [
                 0,
                 4000
                ]
               },
               "type": "quantitative"
              }
             },
             "height": 50,
             "mark": {
              "clip": true,
              "interpolate": "monotone",
              "type": "area"
             },
             "title": "Maine",
             "transform": [
              {
               "filter": {
                "equal": "Maine",
                "field": "GeoName"
               }
              },
              {
               "as": "dValue",
               "calculate": "(datum.Value - 4000)"
              }
             ],
             "width": 200
            },
            {
             "data": {
              "format": {
               "type": "json"
              },
              "url": "altair-data-c7b18632dfb4654bdd26f54e980bd74d.json"
             },
             "encoding": {
              "opacity": {
               "value": 0.75
              },
              "x": {
               "field": "Year",
               "scale": {
                "nice": false,
                "zero": false
               },
               "timeUnit": "year",
               "type": "temporal"
              },
              "y": {
               "field": "ddValue",
               "scale": {
                "domain": [
                 0,
                 4000
                ]
               },
               "type": "quantitative"
              }
             },
             "height": 50,
             "mark": {
              "clip": true,
              "interpolate": "monotone",
              "type": "area"
             },
             "title": "Maine",
             "transform": [
              {
               "filter": {
                "equal": "Maine",
                "field": "GeoName"
               }
              },
              {
               "as": "dValue",
               "calculate": "(datum.Value - 4000)"
              },
              {
               "as": "ddValue",
               "calculate": "(datum.Value - 8000)"
              }
             ],
             "width": 200
            }
           ]
          }
         ]
        },
        {
         "vconcat": [
          {
           "layer": [
            {
             "data": {
              "format": {
               "type": "json"
              },
              "url": "altair-data-c7b18632dfb4654bdd26f54e980bd74d.json"
             },
             "encoding": {
              "opacity": {
               "value": 0.25
              },
              "x": {
               "field": "Year",
               "scale": {
                "nice": false,
                "zero": false
               },
               "timeUnit": "year",
               "type": "temporal"
              },
              "y": {
               "axis": {
                "title": "Spending"
               },
               "field": "Value",
               "scale": {
                "domain": [
                 0,
                 4000
                ]
               },
               "type": "quantitative"
              }
             },
             "height": 50,
             "mark": {
              "clip": true,
              "interpolate": "monotone",
              "type": "area"
             },
             "title": "Maryland",
             "transform": [
              {
               "filter": {
                "equal": "Maryland",
                "field": "GeoName"
               }
              }
             ],
             "width": 200
            },
            {
             "data": {
              "format": {
               "type": "json"
              },
              "url": "altair-data-c7b18632dfb4654bdd26f54e980bd74d.json"
             },
             "encoding": {
              "opacity": {
               "value": 0.5
              },
              "x": {
               "field": "Year",
               "scale": {
                "nice": false,
                "zero": false
               },
               "timeUnit": "year",
               "type": "temporal"
              },
              "y": {
               "field": "dValue",
               "scale": {
                "domain": [
                 0,
                 4000
                ]
               },
               "type": "quantitative"
              }
             },
             "height": 50,
             "mark": {
              "clip": true,
              "interpolate": "monotone",
              "type": "area"
             },
             "title": "Maryland",
             "transform": [
              {
               "filter": {
                "equal": "Maryland",
                "field": "GeoName"
               }
              },
              {
               "as": "dValue",
               "calculate": "(datum.Value - 4000)"
              }
             ],
             "width": 200
            },
            {
             "data": {
              "format": {
               "type": "json"
              },
              "url": "altair-data-c7b18632dfb4654bdd26f54e980bd74d.json"
             },
             "encoding": {
              "opacity": {
               "value": 0.75
              },
              "x": {
               "field": "Year",
               "scale": {
                "nice": false,
                "zero": false
               },
               "timeUnit": "year",
               "type": "temporal"
              },
              "y": {
               "field": "ddValue",
               "scale": {
                "domain": [
                 0,
                 4000
                ]
               },
               "type": "quantitative"
              }
             },
             "height": 50,
             "mark": {
              "clip": true,
              "interpolate": "monotone",
              "type": "area"
             },
             "title": "Maryland",
             "transform": [
              {
               "filter": {
                "equal": "Maryland",
                "field": "GeoName"
               }
              },
              {
               "as": "dValue",
               "calculate": "(datum.Value - 4000)"
              },
              {
               "as": "ddValue",
               "calculate": "(datum.Value - 8000)"
              }
             ],
             "width": 200
            }
           ]
          },
          {
           "layer": [
            {
             "data": {
              "format": {
               "type": "json"
              },
              "url": "altair-data-c7b18632dfb4654bdd26f54e980bd74d.json"
             },
             "encoding": {
              "opacity": {
               "value": 0.25
              },
              "x": {
               "field": "Year",
               "scale": {
                "nice": false,
                "zero": false
               },
               "timeUnit": "year",
               "type": "temporal"
              },
              "y": {
               "axis": {
                "title": "Spending"
               },
               "field": "Value",
               "scale": {
                "domain": [
                 0,
                 4000
                ]
               },
               "type": "quantitative"
              }
             },
             "height": 50,
             "mark": {
              "clip": true,
              "interpolate": "monotone",
              "type": "area"
             },
             "title": "Massachusetts",
             "transform": [
              {
               "filter": {
                "equal": "Massachusetts",
                "field": "GeoName"
               }
              }
             ],
             "width": 200
            },
            {
             "data": {
              "format": {
               "type": "json"
              },
              "url": "altair-data-c7b18632dfb4654bdd26f54e980bd74d.json"
             },
             "encoding": {
              "opacity": {
               "value": 0.5
              },
              "x": {
               "field": "Year",
               "scale": {
                "nice": false,
                "zero": false
               },
               "timeUnit": "year",
               "type": "temporal"
              },
              "y": {
               "field": "dValue",
               "scale": {
                "domain": [
                 0,
                 4000
                ]
               },
               "type": "quantitative"
              }
             },
             "height": 50,
             "mark": {
              "clip": true,
              "interpolate": "monotone",
              "type": "area"
             },
             "title": "Massachusetts",
             "transform": [
              {
               "filter": {
                "equal": "Massachusetts",
                "field": "GeoName"
               }
              },
              {
               "as": "dValue",
               "calculate": "(datum.Value - 4000)"
              }
             ],
             "width": 200
            },
            {
             "data": {
              "format": {
               "type": "json"
              },
              "url": "altair-data-c7b18632dfb4654bdd26f54e980bd74d.json"
             },
             "encoding": {
              "opacity": {
               "value": 0.75
              },
              "x": {
               "field": "Year",
               "scale": {
                "nice": false,
                "zero": false
               },
               "timeUnit": "year",
               "type": "temporal"
              },
              "y": {
               "field": "ddValue",
               "scale": {
                "domain": [
                 0,
                 4000
                ]
               },
               "type": "quantitative"
              }
             },
             "height": 50,
             "mark": {
              "clip": true,
              "interpolate": "monotone",
              "type": "area"
             },
             "title": "Massachusetts",
             "transform": [
              {
               "filter": {
                "equal": "Massachusetts",
                "field": "GeoName"
               }
              },
              {
               "as": "dValue",
               "calculate": "(datum.Value - 4000)"
              },
              {
               "as": "ddValue",
               "calculate": "(datum.Value - 8000)"
              }
             ],
             "width": 200
            }
           ]
          },
          {
           "layer": [
            {
             "data": {
              "format": {
               "type": "json"
              },
              "url": "altair-data-c7b18632dfb4654bdd26f54e980bd74d.json"
             },
             "encoding": {
              "opacity": {
               "value": 0.25
              },
              "x": {
               "field": "Year",
               "scale": {
                "nice": false,
                "zero": false
               },
               "timeUnit": "year",
               "type": "temporal"
              },
              "y": {
               "axis": {
                "title": "Spending"
               },
               "field": "Value",
               "scale": {
                "domain": [
                 0,
                 4000
                ]
               },
               "type": "quantitative"
              }
             },
             "height": 50,
             "mark": {
              "clip": true,
              "interpolate": "monotone",
              "type": "area"
             },
             "title": "Michigan",
             "transform": [
              {
               "filter": {
                "equal": "Michigan",
                "field": "GeoName"
               }
              }
             ],
             "width": 200
            },
            {
             "data": {
              "format": {
               "type": "json"
              },
              "url": "altair-data-c7b18632dfb4654bdd26f54e980bd74d.json"
             },
             "encoding": {
              "opacity": {
               "value": 0.5
              },
              "x": {
               "field": "Year",
               "scale": {
                "nice": false,
                "zero": false
               },
               "timeUnit": "year",
               "type": "temporal"
              },
              "y": {
               "field": "dValue",
               "scale": {
                "domain": [
                 0,
                 4000
                ]
               },
               "type": "quantitative"
              }
             },
             "height": 50,
             "mark": {
              "clip": true,
              "interpolate": "monotone",
              "type": "area"
             },
             "title": "Michigan",
             "transform": [
              {
               "filter": {
                "equal": "Michigan",
                "field": "GeoName"
               }
              },
              {
               "as": "dValue",
               "calculate": "(datum.Value - 4000)"
              }
             ],
             "width": 200
            },
            {
             "data": {
              "format": {
               "type": "json"
              },
              "url": "altair-data-c7b18632dfb4654bdd26f54e980bd74d.json"
             },
             "encoding": {
              "opacity": {
               "value": 0.75
              },
              "x": {
               "field": "Year",
               "scale": {
                "nice": false,
                "zero": false
               },
               "timeUnit": "year",
               "type": "temporal"
              },
              "y": {
               "field": "ddValue",
               "scale": {
                "domain": [
                 0,
                 4000
                ]
               },
               "type": "quantitative"
              }
             },
             "height": 50,
             "mark": {
              "clip": true,
              "interpolate": "monotone",
              "type": "area"
             },
             "title": "Michigan",
             "transform": [
              {
               "filter": {
                "equal": "Michigan",
                "field": "GeoName"
               }
              },
              {
               "as": "dValue",
               "calculate": "(datum.Value - 4000)"
              },
              {
               "as": "ddValue",
               "calculate": "(datum.Value - 8000)"
              }
             ],
             "width": 200
            }
           ]
          },
          {
           "layer": [
            {
             "data": {
              "format": {
               "type": "json"
              },
              "url": "altair-data-c7b18632dfb4654bdd26f54e980bd74d.json"
             },
             "encoding": {
              "opacity": {
               "value": 0.25
              },
              "x": {
               "field": "Year",
               "scale": {
                "nice": false,
                "zero": false
               },
               "timeUnit": "year",
               "type": "temporal"
              },
              "y": {
               "axis": {
                "title": "Spending"
               },
               "field": "Value",
               "scale": {
                "domain": [
                 0,
                 4000
                ]
               },
               "type": "quantitative"
              }
             },
             "height": 50,
             "mark": {
              "clip": true,
              "interpolate": "monotone",
              "type": "area"
             },
             "title": "Minnesota",
             "transform": [
              {
               "filter": {
                "equal": "Minnesota",
                "field": "GeoName"
               }
              }
             ],
             "width": 200
            },
            {
             "data": {
              "format": {
               "type": "json"
              },
              "url": "altair-data-c7b18632dfb4654bdd26f54e980bd74d.json"
             },
             "encoding": {
              "opacity": {
               "value": 0.5
              },
              "x": {
               "field": "Year",
               "scale": {
                "nice": false,
                "zero": false
               },
               "timeUnit": "year",
               "type": "temporal"
              },
              "y": {
               "field": "dValue",
               "scale": {
                "domain": [
                 0,
                 4000
                ]
               },
               "type": "quantitative"
              }
             },
             "height": 50,
             "mark": {
              "clip": true,
              "interpolate": "monotone",
              "type": "area"
             },
             "title": "Minnesota",
             "transform": [
              {
               "filter": {
                "equal": "Minnesota",
                "field": "GeoName"
               }
              },
              {
               "as": "dValue",
               "calculate": "(datum.Value - 4000)"
              }
             ],
             "width": 200
            },
            {
             "data": {
              "format": {
               "type": "json"
              },
              "url": "altair-data-c7b18632dfb4654bdd26f54e980bd74d.json"
             },
             "encoding": {
              "opacity": {
               "value": 0.75
              },
              "x": {
               "field": "Year",
               "scale": {
                "nice": false,
                "zero": false
               },
               "timeUnit": "year",
               "type": "temporal"
              },
              "y": {
               "field": "ddValue",
               "scale": {
                "domain": [
                 0,
                 4000
                ]
               },
               "type": "quantitative"
              }
             },
             "height": 50,
             "mark": {
              "clip": true,
              "interpolate": "monotone",
              "type": "area"
             },
             "title": "Minnesota",
             "transform": [
              {
               "filter": {
                "equal": "Minnesota",
                "field": "GeoName"
               }
              },
              {
               "as": "dValue",
               "calculate": "(datum.Value - 4000)"
              },
              {
               "as": "ddValue",
               "calculate": "(datum.Value - 8000)"
              }
             ],
             "width": 200
            }
           ]
          },
          {
           "layer": [
            {
             "data": {
              "format": {
               "type": "json"
              },
              "url": "altair-data-c7b18632dfb4654bdd26f54e980bd74d.json"
             },
             "encoding": {
              "opacity": {
               "value": 0.25
              },
              "x": {
               "field": "Year",
               "scale": {
                "nice": false,
                "zero": false
               },
               "timeUnit": "year",
               "type": "temporal"
              },
              "y": {
               "axis": {
                "title": "Spending"
               },
               "field": "Value",
               "scale": {
                "domain": [
                 0,
                 4000
                ]
               },
               "type": "quantitative"
              }
             },
             "height": 50,
             "mark": {
              "clip": true,
              "interpolate": "monotone",
              "type": "area"
             },
             "title": "Mississippi",
             "transform": [
              {
               "filter": {
                "equal": "Mississippi",
                "field": "GeoName"
               }
              }
             ],
             "width": 200
            },
            {
             "data": {
              "format": {
               "type": "json"
              },
              "url": "altair-data-c7b18632dfb4654bdd26f54e980bd74d.json"
             },
             "encoding": {
              "opacity": {
               "value": 0.5
              },
              "x": {
               "field": "Year",
               "scale": {
                "nice": false,
                "zero": false
               },
               "timeUnit": "year",
               "type": "temporal"
              },
              "y": {
               "field": "dValue",
               "scale": {
                "domain": [
                 0,
                 4000
                ]
               },
               "type": "quantitative"
              }
             },
             "height": 50,
             "mark": {
              "clip": true,
              "interpolate": "monotone",
              "type": "area"
             },
             "title": "Mississippi",
             "transform": [
              {
               "filter": {
                "equal": "Mississippi",
                "field": "GeoName"
               }
              },
              {
               "as": "dValue",
               "calculate": "(datum.Value - 4000)"
              }
             ],
             "width": 200
            },
            {
             "data": {
              "format": {
               "type": "json"
              },
              "url": "altair-data-c7b18632dfb4654bdd26f54e980bd74d.json"
             },
             "encoding": {
              "opacity": {
               "value": 0.75
              },
              "x": {
               "field": "Year",
               "scale": {
                "nice": false,
                "zero": false
               },
               "timeUnit": "year",
               "type": "temporal"
              },
              "y": {
               "field": "ddValue",
               "scale": {
                "domain": [
                 0,
                 4000
                ]
               },
               "type": "quantitative"
              }
             },
             "height": 50,
             "mark": {
              "clip": true,
              "interpolate": "monotone",
              "type": "area"
             },
             "title": "Mississippi",
             "transform": [
              {
               "filter": {
                "equal": "Mississippi",
                "field": "GeoName"
               }
              },
              {
               "as": "dValue",
               "calculate": "(datum.Value - 4000)"
              },
              {
               "as": "ddValue",
               "calculate": "(datum.Value - 8000)"
              }
             ],
             "width": 200
            }
           ]
          },
          {
           "layer": [
            {
             "data": {
              "format": {
               "type": "json"
              },
              "url": "altair-data-c7b18632dfb4654bdd26f54e980bd74d.json"
             },
             "encoding": {
              "opacity": {
               "value": 0.25
              },
              "x": {
               "field": "Year",
               "scale": {
                "nice": false,
                "zero": false
               },
               "timeUnit": "year",
               "type": "temporal"
              },
              "y": {
               "axis": {
                "title": "Spending"
               },
               "field": "Value",
               "scale": {
                "domain": [
                 0,
                 4000
                ]
               },
               "type": "quantitative"
              }
             },
             "height": 50,
             "mark": {
              "clip": true,
              "interpolate": "monotone",
              "type": "area"
             },
             "title": "Missouri",
             "transform": [
              {
               "filter": {
                "equal": "Missouri",
                "field": "GeoName"
               }
              }
             ],
             "width": 200
            },
            {
             "data": {
              "format": {
               "type": "json"
              },
              "url": "altair-data-c7b18632dfb4654bdd26f54e980bd74d.json"
             },
             "encoding": {
              "opacity": {
               "value": 0.5
              },
              "x": {
               "field": "Year",
               "scale": {
                "nice": false,
                "zero": false
               },
               "timeUnit": "year",
               "type": "temporal"
              },
              "y": {
               "field": "dValue",
               "scale": {
                "domain": [
                 0,
                 4000
                ]
               },
               "type": "quantitative"
              }
             },
             "height": 50,
             "mark": {
              "clip": true,
              "interpolate": "monotone",
              "type": "area"
             },
             "title": "Missouri",
             "transform": [
              {
               "filter": {
                "equal": "Missouri",
                "field": "GeoName"
               }
              },
              {
               "as": "dValue",
               "calculate": "(datum.Value - 4000)"
              }
             ],
             "width": 200
            },
            {
             "data": {
              "format": {
               "type": "json"
              },
              "url": "altair-data-c7b18632dfb4654bdd26f54e980bd74d.json"
             },
             "encoding": {
              "opacity": {
               "value": 0.75
              },
              "x": {
               "field": "Year",
               "scale": {
                "nice": false,
                "zero": false
               },
               "timeUnit": "year",
               "type": "temporal"
              },
              "y": {
               "field": "ddValue",
               "scale": {
                "domain": [
                 0,
                 4000
                ]
               },
               "type": "quantitative"
              }
             },
             "height": 50,
             "mark": {
              "clip": true,
              "interpolate": "monotone",
              "type": "area"
             },
             "title": "Missouri",
             "transform": [
              {
               "filter": {
                "equal": "Missouri",
                "field": "GeoName"
               }
              },
              {
               "as": "dValue",
               "calculate": "(datum.Value - 4000)"
              },
              {
               "as": "ddValue",
               "calculate": "(datum.Value - 8000)"
              }
             ],
             "width": 200
            }
           ]
          },
          {
           "layer": [
            {
             "data": {
              "format": {
               "type": "json"
              },
              "url": "altair-data-c7b18632dfb4654bdd26f54e980bd74d.json"
             },
             "encoding": {
              "opacity": {
               "value": 0.25
              },
              "x": {
               "field": "Year",
               "scale": {
                "nice": false,
                "zero": false
               },
               "timeUnit": "year",
               "type": "temporal"
              },
              "y": {
               "axis": {
                "title": "Spending"
               },
               "field": "Value",
               "scale": {
                "domain": [
                 0,
                 4000
                ]
               },
               "type": "quantitative"
              }
             },
             "height": 50,
             "mark": {
              "clip": true,
              "interpolate": "monotone",
              "type": "area"
             },
             "title": "Montana",
             "transform": [
              {
               "filter": {
                "equal": "Montana",
                "field": "GeoName"
               }
              }
             ],
             "width": 200
            },
            {
             "data": {
              "format": {
               "type": "json"
              },
              "url": "altair-data-c7b18632dfb4654bdd26f54e980bd74d.json"
             },
             "encoding": {
              "opacity": {
               "value": 0.5
              },
              "x": {
               "field": "Year",
               "scale": {
                "nice": false,
                "zero": false
               },
               "timeUnit": "year",
               "type": "temporal"
              },
              "y": {
               "field": "dValue",
               "scale": {
                "domain": [
                 0,
                 4000
                ]
               },
               "type": "quantitative"
              }
             },
             "height": 50,
             "mark": {
              "clip": true,
              "interpolate": "monotone",
              "type": "area"
             },
             "title": "Montana",
             "transform": [
              {
               "filter": {
                "equal": "Montana",
                "field": "GeoName"
               }
              },
              {
               "as": "dValue",
               "calculate": "(datum.Value - 4000)"
              }
             ],
             "width": 200
            },
            {
             "data": {
              "format": {
               "type": "json"
              },
              "url": "altair-data-c7b18632dfb4654bdd26f54e980bd74d.json"
             },
             "encoding": {
              "opacity": {
               "value": 0.75
              },
              "x": {
               "field": "Year",
               "scale": {
                "nice": false,
                "zero": false
               },
               "timeUnit": "year",
               "type": "temporal"
              },
              "y": {
               "field": "ddValue",
               "scale": {
                "domain": [
                 0,
                 4000
                ]
               },
               "type": "quantitative"
              }
             },
             "height": 50,
             "mark": {
              "clip": true,
              "interpolate": "monotone",
              "type": "area"
             },
             "title": "Montana",
             "transform": [
              {
               "filter": {
                "equal": "Montana",
                "field": "GeoName"
               }
              },
              {
               "as": "dValue",
               "calculate": "(datum.Value - 4000)"
              },
              {
               "as": "ddValue",
               "calculate": "(datum.Value - 8000)"
              }
             ],
             "width": 200
            }
           ]
          },
          {
           "layer": [
            {
             "data": {
              "format": {
               "type": "json"
              },
              "url": "altair-data-c7b18632dfb4654bdd26f54e980bd74d.json"
             },
             "encoding": {
              "opacity": {
               "value": 0.25
              },
              "x": {
               "field": "Year",
               "scale": {
                "nice": false,
                "zero": false
               },
               "timeUnit": "year",
               "type": "temporal"
              },
              "y": {
               "axis": {
                "title": "Spending"
               },
               "field": "Value",
               "scale": {
                "domain": [
                 0,
                 4000
                ]
               },
               "type": "quantitative"
              }
             },
             "height": 50,
             "mark": {
              "clip": true,
              "interpolate": "monotone",
              "type": "area"
             },
             "title": "Nebraska",
             "transform": [
              {
               "filter": {
                "equal": "Nebraska",
                "field": "GeoName"
               }
              }
             ],
             "width": 200
            },
            {
             "data": {
              "format": {
               "type": "json"
              },
              "url": "altair-data-c7b18632dfb4654bdd26f54e980bd74d.json"
             },
             "encoding": {
              "opacity": {
               "value": 0.5
              },
              "x": {
               "field": "Year",
               "scale": {
                "nice": false,
                "zero": false
               },
               "timeUnit": "year",
               "type": "temporal"
              },
              "y": {
               "field": "dValue",
               "scale": {
                "domain": [
                 0,
                 4000
                ]
               },
               "type": "quantitative"
              }
             },
             "height": 50,
             "mark": {
              "clip": true,
              "interpolate": "monotone",
              "type": "area"
             },
             "title": "Nebraska",
             "transform": [
              {
               "filter": {
                "equal": "Nebraska",
                "field": "GeoName"
               }
              },
              {
               "as": "dValue",
               "calculate": "(datum.Value - 4000)"
              }
             ],
             "width": 200
            },
            {
             "data": {
              "format": {
               "type": "json"
              },
              "url": "altair-data-c7b18632dfb4654bdd26f54e980bd74d.json"
             },
             "encoding": {
              "opacity": {
               "value": 0.75
              },
              "x": {
               "field": "Year",
               "scale": {
                "nice": false,
                "zero": false
               },
               "timeUnit": "year",
               "type": "temporal"
              },
              "y": {
               "field": "ddValue",
               "scale": {
                "domain": [
                 0,
                 4000
                ]
               },
               "type": "quantitative"
              }
             },
             "height": 50,
             "mark": {
              "clip": true,
              "interpolate": "monotone",
              "type": "area"
             },
             "title": "Nebraska",
             "transform": [
              {
               "filter": {
                "equal": "Nebraska",
                "field": "GeoName"
               }
              },
              {
               "as": "dValue",
               "calculate": "(datum.Value - 4000)"
              },
              {
               "as": "ddValue",
               "calculate": "(datum.Value - 8000)"
              }
             ],
             "width": 200
            }
           ]
          },
          {
           "layer": [
            {
             "data": {
              "format": {
               "type": "json"
              },
              "url": "altair-data-c7b18632dfb4654bdd26f54e980bd74d.json"
             },
             "encoding": {
              "opacity": {
               "value": 0.25
              },
              "x": {
               "field": "Year",
               "scale": {
                "nice": false,
                "zero": false
               },
               "timeUnit": "year",
               "type": "temporal"
              },
              "y": {
               "axis": {
                "title": "Spending"
               },
               "field": "Value",
               "scale": {
                "domain": [
                 0,
                 4000
                ]
               },
               "type": "quantitative"
              }
             },
             "height": 50,
             "mark": {
              "clip": true,
              "interpolate": "monotone",
              "type": "area"
             },
             "title": "Nevada",
             "transform": [
              {
               "filter": {
                "equal": "Nevada",
                "field": "GeoName"
               }
              }
             ],
             "width": 200
            },
            {
             "data": {
              "format": {
               "type": "json"
              },
              "url": "altair-data-c7b18632dfb4654bdd26f54e980bd74d.json"
             },
             "encoding": {
              "opacity": {
               "value": 0.5
              },
              "x": {
               "field": "Year",
               "scale": {
                "nice": false,
                "zero": false
               },
               "timeUnit": "year",
               "type": "temporal"
              },
              "y": {
               "field": "dValue",
               "scale": {
                "domain": [
                 0,
                 4000
                ]
               },
               "type": "quantitative"
              }
             },
             "height": 50,
             "mark": {
              "clip": true,
              "interpolate": "monotone",
              "type": "area"
             },
             "title": "Nevada",
             "transform": [
              {
               "filter": {
                "equal": "Nevada",
                "field": "GeoName"
               }
              },
              {
               "as": "dValue",
               "calculate": "(datum.Value - 4000)"
              }
             ],
             "width": 200
            },
            {
             "data": {
              "format": {
               "type": "json"
              },
              "url": "altair-data-c7b18632dfb4654bdd26f54e980bd74d.json"
             },
             "encoding": {
              "opacity": {
               "value": 0.75
              },
              "x": {
               "field": "Year",
               "scale": {
                "nice": false,
                "zero": false
               },
               "timeUnit": "year",
               "type": "temporal"
              },
              "y": {
               "field": "ddValue",
               "scale": {
                "domain": [
                 0,
                 4000
                ]
               },
               "type": "quantitative"
              }
             },
             "height": 50,
             "mark": {
              "clip": true,
              "interpolate": "monotone",
              "type": "area"
             },
             "title": "Nevada",
             "transform": [
              {
               "filter": {
                "equal": "Nevada",
                "field": "GeoName"
               }
              },
              {
               "as": "dValue",
               "calculate": "(datum.Value - 4000)"
              },
              {
               "as": "ddValue",
               "calculate": "(datum.Value - 8000)"
              }
             ],
             "width": 200
            }
           ]
          },
          {
           "layer": [
            {
             "data": {
              "format": {
               "type": "json"
              },
              "url": "altair-data-c7b18632dfb4654bdd26f54e980bd74d.json"
             },
             "encoding": {
              "opacity": {
               "value": 0.25
              },
              "x": {
               "field": "Year",
               "scale": {
                "nice": false,
                "zero": false
               },
               "timeUnit": "year",
               "type": "temporal"
              },
              "y": {
               "axis": {
                "title": "Spending"
               },
               "field": "Value",
               "scale": {
                "domain": [
                 0,
                 4000
                ]
               },
               "type": "quantitative"
              }
             },
             "height": 50,
             "mark": {
              "clip": true,
              "interpolate": "monotone",
              "type": "area"
             },
             "title": "New Hampshire",
             "transform": [
              {
               "filter": {
                "equal": "New Hampshire",
                "field": "GeoName"
               }
              }
             ],
             "width": 200
            },
            {
             "data": {
              "format": {
               "type": "json"
              },
              "url": "altair-data-c7b18632dfb4654bdd26f54e980bd74d.json"
             },
             "encoding": {
              "opacity": {
               "value": 0.5
              },
              "x": {
               "field": "Year",
               "scale": {
                "nice": false,
                "zero": false
               },
               "timeUnit": "year",
               "type": "temporal"
              },
              "y": {
               "field": "dValue",
               "scale": {
                "domain": [
                 0,
                 4000
                ]
               },
               "type": "quantitative"
              }
             },
             "height": 50,
             "mark": {
              "clip": true,
              "interpolate": "monotone",
              "type": "area"
             },
             "title": "New Hampshire",
             "transform": [
              {
               "filter": {
                "equal": "New Hampshire",
                "field": "GeoName"
               }
              },
              {
               "as": "dValue",
               "calculate": "(datum.Value - 4000)"
              }
             ],
             "width": 200
            },
            {
             "data": {
              "format": {
               "type": "json"
              },
              "url": "altair-data-c7b18632dfb4654bdd26f54e980bd74d.json"
             },
             "encoding": {
              "opacity": {
               "value": 0.75
              },
              "x": {
               "field": "Year",
               "scale": {
                "nice": false,
                "zero": false
               },
               "timeUnit": "year",
               "type": "temporal"
              },
              "y": {
               "field": "ddValue",
               "scale": {
                "domain": [
                 0,
                 4000
                ]
               },
               "type": "quantitative"
              }
             },
             "height": 50,
             "mark": {
              "clip": true,
              "interpolate": "monotone",
              "type": "area"
             },
             "title": "New Hampshire",
             "transform": [
              {
               "filter": {
                "equal": "New Hampshire",
                "field": "GeoName"
               }
              },
              {
               "as": "dValue",
               "calculate": "(datum.Value - 4000)"
              },
              {
               "as": "ddValue",
               "calculate": "(datum.Value - 8000)"
              }
             ],
             "width": 200
            }
           ]
          }
         ]
        },
        {
         "vconcat": [
          {
           "layer": [
            {
             "data": {
              "format": {
               "type": "json"
              },
              "url": "altair-data-c7b18632dfb4654bdd26f54e980bd74d.json"
             },
             "encoding": {
              "opacity": {
               "value": 0.25
              },
              "x": {
               "field": "Year",
               "scale": {
                "nice": false,
                "zero": false
               },
               "timeUnit": "year",
               "type": "temporal"
              },
              "y": {
               "axis": {
                "title": "Spending"
               },
               "field": "Value",
               "scale": {
                "domain": [
                 0,
                 4000
                ]
               },
               "type": "quantitative"
              }
             },
             "height": 50,
             "mark": {
              "clip": true,
              "interpolate": "monotone",
              "type": "area"
             },
             "title": "New Jersey",
             "transform": [
              {
               "filter": {
                "equal": "New Jersey",
                "field": "GeoName"
               }
              }
             ],
             "width": 200
            },
            {
             "data": {
              "format": {
               "type": "json"
              },
              "url": "altair-data-c7b18632dfb4654bdd26f54e980bd74d.json"
             },
             "encoding": {
              "opacity": {
               "value": 0.5
              },
              "x": {
               "field": "Year",
               "scale": {
                "nice": false,
                "zero": false
               },
               "timeUnit": "year",
               "type": "temporal"
              },
              "y": {
               "field": "dValue",
               "scale": {
                "domain": [
                 0,
                 4000
                ]
               },
               "type": "quantitative"
              }
             },
             "height": 50,
             "mark": {
              "clip": true,
              "interpolate": "monotone",
              "type": "area"
             },
             "title": "New Jersey",
             "transform": [
              {
               "filter": {
                "equal": "New Jersey",
                "field": "GeoName"
               }
              },
              {
               "as": "dValue",
               "calculate": "(datum.Value - 4000)"
              }
             ],
             "width": 200
            },
            {
             "data": {
              "format": {
               "type": "json"
              },
              "url": "altair-data-c7b18632dfb4654bdd26f54e980bd74d.json"
             },
             "encoding": {
              "opacity": {
               "value": 0.75
              },
              "x": {
               "field": "Year",
               "scale": {
                "nice": false,
                "zero": false
               },
               "timeUnit": "year",
               "type": "temporal"
              },
              "y": {
               "field": "ddValue",
               "scale": {
                "domain": [
                 0,
                 4000
                ]
               },
               "type": "quantitative"
              }
             },
             "height": 50,
             "mark": {
              "clip": true,
              "interpolate": "monotone",
              "type": "area"
             },
             "title": "New Jersey",
             "transform": [
              {
               "filter": {
                "equal": "New Jersey",
                "field": "GeoName"
               }
              },
              {
               "as": "dValue",
               "calculate": "(datum.Value - 4000)"
              },
              {
               "as": "ddValue",
               "calculate": "(datum.Value - 8000)"
              }
             ],
             "width": 200
            }
           ]
          },
          {
           "layer": [
            {
             "data": {
              "format": {
               "type": "json"
              },
              "url": "altair-data-c7b18632dfb4654bdd26f54e980bd74d.json"
             },
             "encoding": {
              "opacity": {
               "value": 0.25
              },
              "x": {
               "field": "Year",
               "scale": {
                "nice": false,
                "zero": false
               },
               "timeUnit": "year",
               "type": "temporal"
              },
              "y": {
               "axis": {
                "title": "Spending"
               },
               "field": "Value",
               "scale": {
                "domain": [
                 0,
                 4000
                ]
               },
               "type": "quantitative"
              }
             },
             "height": 50,
             "mark": {
              "clip": true,
              "interpolate": "monotone",
              "type": "area"
             },
             "title": "New Mexico",
             "transform": [
              {
               "filter": {
                "equal": "New Mexico",
                "field": "GeoName"
               }
              }
             ],
             "width": 200
            },
            {
             "data": {
              "format": {
               "type": "json"
              },
              "url": "altair-data-c7b18632dfb4654bdd26f54e980bd74d.json"
             },
             "encoding": {
              "opacity": {
               "value": 0.5
              },
              "x": {
               "field": "Year",
               "scale": {
                "nice": false,
                "zero": false
               },
               "timeUnit": "year",
               "type": "temporal"
              },
              "y": {
               "field": "dValue",
               "scale": {
                "domain": [
                 0,
                 4000
                ]
               },
               "type": "quantitative"
              }
             },
             "height": 50,
             "mark": {
              "clip": true,
              "interpolate": "monotone",
              "type": "area"
             },
             "title": "New Mexico",
             "transform": [
              {
               "filter": {
                "equal": "New Mexico",
                "field": "GeoName"
               }
              },
              {
               "as": "dValue",
               "calculate": "(datum.Value - 4000)"
              }
             ],
             "width": 200
            },
            {
             "data": {
              "format": {
               "type": "json"
              },
              "url": "altair-data-c7b18632dfb4654bdd26f54e980bd74d.json"
             },
             "encoding": {
              "opacity": {
               "value": 0.75
              },
              "x": {
               "field": "Year",
               "scale": {
                "nice": false,
                "zero": false
               },
               "timeUnit": "year",
               "type": "temporal"
              },
              "y": {
               "field": "ddValue",
               "scale": {
                "domain": [
                 0,
                 4000
                ]
               },
               "type": "quantitative"
              }
             },
             "height": 50,
             "mark": {
              "clip": true,
              "interpolate": "monotone",
              "type": "area"
             },
             "title": "New Mexico",
             "transform": [
              {
               "filter": {
                "equal": "New Mexico",
                "field": "GeoName"
               }
              },
              {
               "as": "dValue",
               "calculate": "(datum.Value - 4000)"
              },
              {
               "as": "ddValue",
               "calculate": "(datum.Value - 8000)"
              }
             ],
             "width": 200
            }
           ]
          },
          {
           "layer": [
            {
             "data": {
              "format": {
               "type": "json"
              },
              "url": "altair-data-c7b18632dfb4654bdd26f54e980bd74d.json"
             },
             "encoding": {
              "opacity": {
               "value": 0.25
              },
              "x": {
               "field": "Year",
               "scale": {
                "nice": false,
                "zero": false
               },
               "timeUnit": "year",
               "type": "temporal"
              },
              "y": {
               "axis": {
                "title": "Spending"
               },
               "field": "Value",
               "scale": {
                "domain": [
                 0,
                 4000
                ]
               },
               "type": "quantitative"
              }
             },
             "height": 50,
             "mark": {
              "clip": true,
              "interpolate": "monotone",
              "type": "area"
             },
             "title": "New York",
             "transform": [
              {
               "filter": {
                "equal": "New York",
                "field": "GeoName"
               }
              }
             ],
             "width": 200
            },
            {
             "data": {
              "format": {
               "type": "json"
              },
              "url": "altair-data-c7b18632dfb4654bdd26f54e980bd74d.json"
             },
             "encoding": {
              "opacity": {
               "value": 0.5
              },
              "x": {
               "field": "Year",
               "scale": {
                "nice": false,
                "zero": false
               },
               "timeUnit": "year",
               "type": "temporal"
              },
              "y": {
               "field": "dValue",
               "scale": {
                "domain": [
                 0,
                 4000
                ]
               },
               "type": "quantitative"
              }
             },
             "height": 50,
             "mark": {
              "clip": true,
              "interpolate": "monotone",
              "type": "area"
             },
             "title": "New York",
             "transform": [
              {
               "filter": {
                "equal": "New York",
                "field": "GeoName"
               }
              },
              {
               "as": "dValue",
               "calculate": "(datum.Value - 4000)"
              }
             ],
             "width": 200
            },
            {
             "data": {
              "format": {
               "type": "json"
              },
              "url": "altair-data-c7b18632dfb4654bdd26f54e980bd74d.json"
             },
             "encoding": {
              "opacity": {
               "value": 0.75
              },
              "x": {
               "field": "Year",
               "scale": {
                "nice": false,
                "zero": false
               },
               "timeUnit": "year",
               "type": "temporal"
              },
              "y": {
               "field": "ddValue",
               "scale": {
                "domain": [
                 0,
                 4000
                ]
               },
               "type": "quantitative"
              }
             },
             "height": 50,
             "mark": {
              "clip": true,
              "interpolate": "monotone",
              "type": "area"
             },
             "title": "New York",
             "transform": [
              {
               "filter": {
                "equal": "New York",
                "field": "GeoName"
               }
              },
              {
               "as": "dValue",
               "calculate": "(datum.Value - 4000)"
              },
              {
               "as": "ddValue",
               "calculate": "(datum.Value - 8000)"
              }
             ],
             "width": 200
            }
           ]
          },
          {
           "layer": [
            {
             "data": {
              "format": {
               "type": "json"
              },
              "url": "altair-data-c7b18632dfb4654bdd26f54e980bd74d.json"
             },
             "encoding": {
              "opacity": {
               "value": 0.25
              },
              "x": {
               "field": "Year",
               "scale": {
                "nice": false,
                "zero": false
               },
               "timeUnit": "year",
               "type": "temporal"
              },
              "y": {
               "axis": {
                "title": "Spending"
               },
               "field": "Value",
               "scale": {
                "domain": [
                 0,
                 4000
                ]
               },
               "type": "quantitative"
              }
             },
             "height": 50,
             "mark": {
              "clip": true,
              "interpolate": "monotone",
              "type": "area"
             },
             "title": "North Carolina",
             "transform": [
              {
               "filter": {
                "equal": "North Carolina",
                "field": "GeoName"
               }
              }
             ],
             "width": 200
            },
            {
             "data": {
              "format": {
               "type": "json"
              },
              "url": "altair-data-c7b18632dfb4654bdd26f54e980bd74d.json"
             },
             "encoding": {
              "opacity": {
               "value": 0.5
              },
              "x": {
               "field": "Year",
               "scale": {
                "nice": false,
                "zero": false
               },
               "timeUnit": "year",
               "type": "temporal"
              },
              "y": {
               "field": "dValue",
               "scale": {
                "domain": [
                 0,
                 4000
                ]
               },
               "type": "quantitative"
              }
             },
             "height": 50,
             "mark": {
              "clip": true,
              "interpolate": "monotone",
              "type": "area"
             },
             "title": "North Carolina",
             "transform": [
              {
               "filter": {
                "equal": "North Carolina",
                "field": "GeoName"
               }
              },
              {
               "as": "dValue",
               "calculate": "(datum.Value - 4000)"
              }
             ],
             "width": 200
            },
            {
             "data": {
              "format": {
               "type": "json"
              },
              "url": "altair-data-c7b18632dfb4654bdd26f54e980bd74d.json"
             },
             "encoding": {
              "opacity": {
               "value": 0.75
              },
              "x": {
               "field": "Year",
               "scale": {
                "nice": false,
                "zero": false
               },
               "timeUnit": "year",
               "type": "temporal"
              },
              "y": {
               "field": "ddValue",
               "scale": {
                "domain": [
                 0,
                 4000
                ]
               },
               "type": "quantitative"
              }
             },
             "height": 50,
             "mark": {
              "clip": true,
              "interpolate": "monotone",
              "type": "area"
             },
             "title": "North Carolina",
             "transform": [
              {
               "filter": {
                "equal": "North Carolina",
                "field": "GeoName"
               }
              },
              {
               "as": "dValue",
               "calculate": "(datum.Value - 4000)"
              },
              {
               "as": "ddValue",
               "calculate": "(datum.Value - 8000)"
              }
             ],
             "width": 200
            }
           ]
          },
          {
           "layer": [
            {
             "data": {
              "format": {
               "type": "json"
              },
              "url": "altair-data-c7b18632dfb4654bdd26f54e980bd74d.json"
             },
             "encoding": {
              "opacity": {
               "value": 0.25
              },
              "x": {
               "field": "Year",
               "scale": {
                "nice": false,
                "zero": false
               },
               "timeUnit": "year",
               "type": "temporal"
              },
              "y": {
               "axis": {
                "title": "Spending"
               },
               "field": "Value",
               "scale": {
                "domain": [
                 0,
                 4000
                ]
               },
               "type": "quantitative"
              }
             },
             "height": 50,
             "mark": {
              "clip": true,
              "interpolate": "monotone",
              "type": "area"
             },
             "title": "North Dakota",
             "transform": [
              {
               "filter": {
                "equal": "North Dakota",
                "field": "GeoName"
               }
              }
             ],
             "width": 200
            },
            {
             "data": {
              "format": {
               "type": "json"
              },
              "url": "altair-data-c7b18632dfb4654bdd26f54e980bd74d.json"
             },
             "encoding": {
              "opacity": {
               "value": 0.5
              },
              "x": {
               "field": "Year",
               "scale": {
                "nice": false,
                "zero": false
               },
               "timeUnit": "year",
               "type": "temporal"
              },
              "y": {
               "field": "dValue",
               "scale": {
                "domain": [
                 0,
                 4000
                ]
               },
               "type": "quantitative"
              }
             },
             "height": 50,
             "mark": {
              "clip": true,
              "interpolate": "monotone",
              "type": "area"
             },
             "title": "North Dakota",
             "transform": [
              {
               "filter": {
                "equal": "North Dakota",
                "field": "GeoName"
               }
              },
              {
               "as": "dValue",
               "calculate": "(datum.Value - 4000)"
              }
             ],
             "width": 200
            },
            {
             "data": {
              "format": {
               "type": "json"
              },
              "url": "altair-data-c7b18632dfb4654bdd26f54e980bd74d.json"
             },
             "encoding": {
              "opacity": {
               "value": 0.75
              },
              "x": {
               "field": "Year",
               "scale": {
                "nice": false,
                "zero": false
               },
               "timeUnit": "year",
               "type": "temporal"
              },
              "y": {
               "field": "ddValue",
               "scale": {
                "domain": [
                 0,
                 4000
                ]
               },
               "type": "quantitative"
              }
             },
             "height": 50,
             "mark": {
              "clip": true,
              "interpolate": "monotone",
              "type": "area"
             },
             "title": "North Dakota",
             "transform": [
              {
               "filter": {
                "equal": "North Dakota",
                "field": "GeoName"
               }
              },
              {
               "as": "dValue",
               "calculate": "(datum.Value - 4000)"
              },
              {
               "as": "ddValue",
               "calculate": "(datum.Value - 8000)"
              }
             ],
             "width": 200
            }
           ]
          },
          {
           "layer": [
            {
             "data": {
              "format": {
               "type": "json"
              },
              "url": "altair-data-c7b18632dfb4654bdd26f54e980bd74d.json"
             },
             "encoding": {
              "opacity": {
               "value": 0.25
              },
              "x": {
               "field": "Year",
               "scale": {
                "nice": false,
                "zero": false
               },
               "timeUnit": "year",
               "type": "temporal"
              },
              "y": {
               "axis": {
                "title": "Spending"
               },
               "field": "Value",
               "scale": {
                "domain": [
                 0,
                 4000
                ]
               },
               "type": "quantitative"
              }
             },
             "height": 50,
             "mark": {
              "clip": true,
              "interpolate": "monotone",
              "type": "area"
             },
             "title": "Ohio",
             "transform": [
              {
               "filter": {
                "equal": "Ohio",
                "field": "GeoName"
               }
              }
             ],
             "width": 200
            },
            {
             "data": {
              "format": {
               "type": "json"
              },
              "url": "altair-data-c7b18632dfb4654bdd26f54e980bd74d.json"
             },
             "encoding": {
              "opacity": {
               "value": 0.5
              },
              "x": {
               "field": "Year",
               "scale": {
                "nice": false,
                "zero": false
               },
               "timeUnit": "year",
               "type": "temporal"
              },
              "y": {
               "field": "dValue",
               "scale": {
                "domain": [
                 0,
                 4000
                ]
               },
               "type": "quantitative"
              }
             },
             "height": 50,
             "mark": {
              "clip": true,
              "interpolate": "monotone",
              "type": "area"
             },
             "title": "Ohio",
             "transform": [
              {
               "filter": {
                "equal": "Ohio",
                "field": "GeoName"
               }
              },
              {
               "as": "dValue",
               "calculate": "(datum.Value - 4000)"
              }
             ],
             "width": 200
            },
            {
             "data": {
              "format": {
               "type": "json"
              },
              "url": "altair-data-c7b18632dfb4654bdd26f54e980bd74d.json"
             },
             "encoding": {
              "opacity": {
               "value": 0.75
              },
              "x": {
               "field": "Year",
               "scale": {
                "nice": false,
                "zero": false
               },
               "timeUnit": "year",
               "type": "temporal"
              },
              "y": {
               "field": "ddValue",
               "scale": {
                "domain": [
                 0,
                 4000
                ]
               },
               "type": "quantitative"
              }
             },
             "height": 50,
             "mark": {
              "clip": true,
              "interpolate": "monotone",
              "type": "area"
             },
             "title": "Ohio",
             "transform": [
              {
               "filter": {
                "equal": "Ohio",
                "field": "GeoName"
               }
              },
              {
               "as": "dValue",
               "calculate": "(datum.Value - 4000)"
              },
              {
               "as": "ddValue",
               "calculate": "(datum.Value - 8000)"
              }
             ],
             "width": 200
            }
           ]
          },
          {
           "layer": [
            {
             "data": {
              "format": {
               "type": "json"
              },
              "url": "altair-data-c7b18632dfb4654bdd26f54e980bd74d.json"
             },
             "encoding": {
              "opacity": {
               "value": 0.25
              },
              "x": {
               "field": "Year",
               "scale": {
                "nice": false,
                "zero": false
               },
               "timeUnit": "year",
               "type": "temporal"
              },
              "y": {
               "axis": {
                "title": "Spending"
               },
               "field": "Value",
               "scale": {
                "domain": [
                 0,
                 4000
                ]
               },
               "type": "quantitative"
              }
             },
             "height": 50,
             "mark": {
              "clip": true,
              "interpolate": "monotone",
              "type": "area"
             },
             "title": "Oklahoma",
             "transform": [
              {
               "filter": {
                "equal": "Oklahoma",
                "field": "GeoName"
               }
              }
             ],
             "width": 200
            },
            {
             "data": {
              "format": {
               "type": "json"
              },
              "url": "altair-data-c7b18632dfb4654bdd26f54e980bd74d.json"
             },
             "encoding": {
              "opacity": {
               "value": 0.5
              },
              "x": {
               "field": "Year",
               "scale": {
                "nice": false,
                "zero": false
               },
               "timeUnit": "year",
               "type": "temporal"
              },
              "y": {
               "field": "dValue",
               "scale": {
                "domain": [
                 0,
                 4000
                ]
               },
               "type": "quantitative"
              }
             },
             "height": 50,
             "mark": {
              "clip": true,
              "interpolate": "monotone",
              "type": "area"
             },
             "title": "Oklahoma",
             "transform": [
              {
               "filter": {
                "equal": "Oklahoma",
                "field": "GeoName"
               }
              },
              {
               "as": "dValue",
               "calculate": "(datum.Value - 4000)"
              }
             ],
             "width": 200
            },
            {
             "data": {
              "format": {
               "type": "json"
              },
              "url": "altair-data-c7b18632dfb4654bdd26f54e980bd74d.json"
             },
             "encoding": {
              "opacity": {
               "value": 0.75
              },
              "x": {
               "field": "Year",
               "scale": {
                "nice": false,
                "zero": false
               },
               "timeUnit": "year",
               "type": "temporal"
              },
              "y": {
               "field": "ddValue",
               "scale": {
                "domain": [
                 0,
                 4000
                ]
               },
               "type": "quantitative"
              }
             },
             "height": 50,
             "mark": {
              "clip": true,
              "interpolate": "monotone",
              "type": "area"
             },
             "title": "Oklahoma",
             "transform": [
              {
               "filter": {
                "equal": "Oklahoma",
                "field": "GeoName"
               }
              },
              {
               "as": "dValue",
               "calculate": "(datum.Value - 4000)"
              },
              {
               "as": "ddValue",
               "calculate": "(datum.Value - 8000)"
              }
             ],
             "width": 200
            }
           ]
          },
          {
           "layer": [
            {
             "data": {
              "format": {
               "type": "json"
              },
              "url": "altair-data-c7b18632dfb4654bdd26f54e980bd74d.json"
             },
             "encoding": {
              "opacity": {
               "value": 0.25
              },
              "x": {
               "field": "Year",
               "scale": {
                "nice": false,
                "zero": false
               },
               "timeUnit": "year",
               "type": "temporal"
              },
              "y": {
               "axis": {
                "title": "Spending"
               },
               "field": "Value",
               "scale": {
                "domain": [
                 0,
                 4000
                ]
               },
               "type": "quantitative"
              }
             },
             "height": 50,
             "mark": {
              "clip": true,
              "interpolate": "monotone",
              "type": "area"
             },
             "title": "Oregon",
             "transform": [
              {
               "filter": {
                "equal": "Oregon",
                "field": "GeoName"
               }
              }
             ],
             "width": 200
            },
            {
             "data": {
              "format": {
               "type": "json"
              },
              "url": "altair-data-c7b18632dfb4654bdd26f54e980bd74d.json"
             },
             "encoding": {
              "opacity": {
               "value": 0.5
              },
              "x": {
               "field": "Year",
               "scale": {
                "nice": false,
                "zero": false
               },
               "timeUnit": "year",
               "type": "temporal"
              },
              "y": {
               "field": "dValue",
               "scale": {
                "domain": [
                 0,
                 4000
                ]
               },
               "type": "quantitative"
              }
             },
             "height": 50,
             "mark": {
              "clip": true,
              "interpolate": "monotone",
              "type": "area"
             },
             "title": "Oregon",
             "transform": [
              {
               "filter": {
                "equal": "Oregon",
                "field": "GeoName"
               }
              },
              {
               "as": "dValue",
               "calculate": "(datum.Value - 4000)"
              }
             ],
             "width": 200
            },
            {
             "data": {
              "format": {
               "type": "json"
              },
              "url": "altair-data-c7b18632dfb4654bdd26f54e980bd74d.json"
             },
             "encoding": {
              "opacity": {
               "value": 0.75
              },
              "x": {
               "field": "Year",
               "scale": {
                "nice": false,
                "zero": false
               },
               "timeUnit": "year",
               "type": "temporal"
              },
              "y": {
               "field": "ddValue",
               "scale": {
                "domain": [
                 0,
                 4000
                ]
               },
               "type": "quantitative"
              }
             },
             "height": 50,
             "mark": {
              "clip": true,
              "interpolate": "monotone",
              "type": "area"
             },
             "title": "Oregon",
             "transform": [
              {
               "filter": {
                "equal": "Oregon",
                "field": "GeoName"
               }
              },
              {
               "as": "dValue",
               "calculate": "(datum.Value - 4000)"
              },
              {
               "as": "ddValue",
               "calculate": "(datum.Value - 8000)"
              }
             ],
             "width": 200
            }
           ]
          },
          {
           "layer": [
            {
             "data": {
              "format": {
               "type": "json"
              },
              "url": "altair-data-c7b18632dfb4654bdd26f54e980bd74d.json"
             },
             "encoding": {
              "opacity": {
               "value": 0.25
              },
              "x": {
               "field": "Year",
               "scale": {
                "nice": false,
                "zero": false
               },
               "timeUnit": "year",
               "type": "temporal"
              },
              "y": {
               "axis": {
                "title": "Spending"
               },
               "field": "Value",
               "scale": {
                "domain": [
                 0,
                 4000
                ]
               },
               "type": "quantitative"
              }
             },
             "height": 50,
             "mark": {
              "clip": true,
              "interpolate": "monotone",
              "type": "area"
             },
             "title": "Pennsylvania",
             "transform": [
              {
               "filter": {
                "equal": "Pennsylvania",
                "field": "GeoName"
               }
              }
             ],
             "width": 200
            },
            {
             "data": {
              "format": {
               "type": "json"
              },
              "url": "altair-data-c7b18632dfb4654bdd26f54e980bd74d.json"
             },
             "encoding": {
              "opacity": {
               "value": 0.5
              },
              "x": {
               "field": "Year",
               "scale": {
                "nice": false,
                "zero": false
               },
               "timeUnit": "year",
               "type": "temporal"
              },
              "y": {
               "field": "dValue",
               "scale": {
                "domain": [
                 0,
                 4000
                ]
               },
               "type": "quantitative"
              }
             },
             "height": 50,
             "mark": {
              "clip": true,
              "interpolate": "monotone",
              "type": "area"
             },
             "title": "Pennsylvania",
             "transform": [
              {
               "filter": {
                "equal": "Pennsylvania",
                "field": "GeoName"
               }
              },
              {
               "as": "dValue",
               "calculate": "(datum.Value - 4000)"
              }
             ],
             "width": 200
            },
            {
             "data": {
              "format": {
               "type": "json"
              },
              "url": "altair-data-c7b18632dfb4654bdd26f54e980bd74d.json"
             },
             "encoding": {
              "opacity": {
               "value": 0.75
              },
              "x": {
               "field": "Year",
               "scale": {
                "nice": false,
                "zero": false
               },
               "timeUnit": "year",
               "type": "temporal"
              },
              "y": {
               "field": "ddValue",
               "scale": {
                "domain": [
                 0,
                 4000
                ]
               },
               "type": "quantitative"
              }
             },
             "height": 50,
             "mark": {
              "clip": true,
              "interpolate": "monotone",
              "type": "area"
             },
             "title": "Pennsylvania",
             "transform": [
              {
               "filter": {
                "equal": "Pennsylvania",
                "field": "GeoName"
               }
              },
              {
               "as": "dValue",
               "calculate": "(datum.Value - 4000)"
              },
              {
               "as": "ddValue",
               "calculate": "(datum.Value - 8000)"
              }
             ],
             "width": 200
            }
           ]
          },
          {
           "layer": [
            {
             "data": {
              "format": {
               "type": "json"
              },
              "url": "altair-data-c7b18632dfb4654bdd26f54e980bd74d.json"
             },
             "encoding": {
              "opacity": {
               "value": 0.25
              },
              "x": {
               "field": "Year",
               "scale": {
                "nice": false,
                "zero": false
               },
               "timeUnit": "year",
               "type": "temporal"
              },
              "y": {
               "axis": {
                "title": "Spending"
               },
               "field": "Value",
               "scale": {
                "domain": [
                 0,
                 4000
                ]
               },
               "type": "quantitative"
              }
             },
             "height": 50,
             "mark": {
              "clip": true,
              "interpolate": "monotone",
              "type": "area"
             },
             "title": "Rhode Island",
             "transform": [
              {
               "filter": {
                "equal": "Rhode Island",
                "field": "GeoName"
               }
              }
             ],
             "width": 200
            },
            {
             "data": {
              "format": {
               "type": "json"
              },
              "url": "altair-data-c7b18632dfb4654bdd26f54e980bd74d.json"
             },
             "encoding": {
              "opacity": {
               "value": 0.5
              },
              "x": {
               "field": "Year",
               "scale": {
                "nice": false,
                "zero": false
               },
               "timeUnit": "year",
               "type": "temporal"
              },
              "y": {
               "field": "dValue",
               "scale": {
                "domain": [
                 0,
                 4000
                ]
               },
               "type": "quantitative"
              }
             },
             "height": 50,
             "mark": {
              "clip": true,
              "interpolate": "monotone",
              "type": "area"
             },
             "title": "Rhode Island",
             "transform": [
              {
               "filter": {
                "equal": "Rhode Island",
                "field": "GeoName"
               }
              },
              {
               "as": "dValue",
               "calculate": "(datum.Value - 4000)"
              }
             ],
             "width": 200
            },
            {
             "data": {
              "format": {
               "type": "json"
              },
              "url": "altair-data-c7b18632dfb4654bdd26f54e980bd74d.json"
             },
             "encoding": {
              "opacity": {
               "value": 0.75
              },
              "x": {
               "field": "Year",
               "scale": {
                "nice": false,
                "zero": false
               },
               "timeUnit": "year",
               "type": "temporal"
              },
              "y": {
               "field": "ddValue",
               "scale": {
                "domain": [
                 0,
                 4000
                ]
               },
               "type": "quantitative"
              }
             },
             "height": 50,
             "mark": {
              "clip": true,
              "interpolate": "monotone",
              "type": "area"
             },
             "title": "Rhode Island",
             "transform": [
              {
               "filter": {
                "equal": "Rhode Island",
                "field": "GeoName"
               }
              },
              {
               "as": "dValue",
               "calculate": "(datum.Value - 4000)"
              },
              {
               "as": "ddValue",
               "calculate": "(datum.Value - 8000)"
              }
             ],
             "width": 200
            }
           ]
          }
         ]
        },
        {
         "vconcat": [
          {
           "layer": [
            {
             "data": {
              "format": {
               "type": "json"
              },
              "url": "altair-data-c7b18632dfb4654bdd26f54e980bd74d.json"
             },
             "encoding": {
              "opacity": {
               "value": 0.25
              },
              "x": {
               "field": "Year",
               "scale": {
                "nice": false,
                "zero": false
               },
               "timeUnit": "year",
               "type": "temporal"
              },
              "y": {
               "axis": {
                "title": "Spending"
               },
               "field": "Value",
               "scale": {
                "domain": [
                 0,
                 4000
                ]
               },
               "type": "quantitative"
              }
             },
             "height": 50,
             "mark": {
              "clip": true,
              "interpolate": "monotone",
              "type": "area"
             },
             "title": "South Carolina",
             "transform": [
              {
               "filter": {
                "equal": "South Carolina",
                "field": "GeoName"
               }
              }
             ],
             "width": 200
            },
            {
             "data": {
              "format": {
               "type": "json"
              },
              "url": "altair-data-c7b18632dfb4654bdd26f54e980bd74d.json"
             },
             "encoding": {
              "opacity": {
               "value": 0.5
              },
              "x": {
               "field": "Year",
               "scale": {
                "nice": false,
                "zero": false
               },
               "timeUnit": "year",
               "type": "temporal"
              },
              "y": {
               "field": "dValue",
               "scale": {
                "domain": [
                 0,
                 4000
                ]
               },
               "type": "quantitative"
              }
             },
             "height": 50,
             "mark": {
              "clip": true,
              "interpolate": "monotone",
              "type": "area"
             },
             "title": "South Carolina",
             "transform": [
              {
               "filter": {
                "equal": "South Carolina",
                "field": "GeoName"
               }
              },
              {
               "as": "dValue",
               "calculate": "(datum.Value - 4000)"
              }
             ],
             "width": 200
            },
            {
             "data": {
              "format": {
               "type": "json"
              },
              "url": "altair-data-c7b18632dfb4654bdd26f54e980bd74d.json"
             },
             "encoding": {
              "opacity": {
               "value": 0.75
              },
              "x": {
               "field": "Year",
               "scale": {
                "nice": false,
                "zero": false
               },
               "timeUnit": "year",
               "type": "temporal"
              },
              "y": {
               "field": "ddValue",
               "scale": {
                "domain": [
                 0,
                 4000
                ]
               },
               "type": "quantitative"
              }
             },
             "height": 50,
             "mark": {
              "clip": true,
              "interpolate": "monotone",
              "type": "area"
             },
             "title": "South Carolina",
             "transform": [
              {
               "filter": {
                "equal": "South Carolina",
                "field": "GeoName"
               }
              },
              {
               "as": "dValue",
               "calculate": "(datum.Value - 4000)"
              },
              {
               "as": "ddValue",
               "calculate": "(datum.Value - 8000)"
              }
             ],
             "width": 200
            }
           ]
          },
          {
           "layer": [
            {
             "data": {
              "format": {
               "type": "json"
              },
              "url": "altair-data-c7b18632dfb4654bdd26f54e980bd74d.json"
             },
             "encoding": {
              "opacity": {
               "value": 0.25
              },
              "x": {
               "field": "Year",
               "scale": {
                "nice": false,
                "zero": false
               },
               "timeUnit": "year",
               "type": "temporal"
              },
              "y": {
               "axis": {
                "title": "Spending"
               },
               "field": "Value",
               "scale": {
                "domain": [
                 0,
                 4000
                ]
               },
               "type": "quantitative"
              }
             },
             "height": 50,
             "mark": {
              "clip": true,
              "interpolate": "monotone",
              "type": "area"
             },
             "title": "South Dakota",
             "transform": [
              {
               "filter": {
                "equal": "South Dakota",
                "field": "GeoName"
               }
              }
             ],
             "width": 200
            },
            {
             "data": {
              "format": {
               "type": "json"
              },
              "url": "altair-data-c7b18632dfb4654bdd26f54e980bd74d.json"
             },
             "encoding": {
              "opacity": {
               "value": 0.5
              },
              "x": {
               "field": "Year",
               "scale": {
                "nice": false,
                "zero": false
               },
               "timeUnit": "year",
               "type": "temporal"
              },
              "y": {
               "field": "dValue",
               "scale": {
                "domain": [
                 0,
                 4000
                ]
               },
               "type": "quantitative"
              }
             },
             "height": 50,
             "mark": {
              "clip": true,
              "interpolate": "monotone",
              "type": "area"
             },
             "title": "South Dakota",
             "transform": [
              {
               "filter": {
                "equal": "South Dakota",
                "field": "GeoName"
               }
              },
              {
               "as": "dValue",
               "calculate": "(datum.Value - 4000)"
              }
             ],
             "width": 200
            },
            {
             "data": {
              "format": {
               "type": "json"
              },
              "url": "altair-data-c7b18632dfb4654bdd26f54e980bd74d.json"
             },
             "encoding": {
              "opacity": {
               "value": 0.75
              },
              "x": {
               "field": "Year",
               "scale": {
                "nice": false,
                "zero": false
               },
               "timeUnit": "year",
               "type": "temporal"
              },
              "y": {
               "field": "ddValue",
               "scale": {
                "domain": [
                 0,
                 4000
                ]
               },
               "type": "quantitative"
              }
             },
             "height": 50,
             "mark": {
              "clip": true,
              "interpolate": "monotone",
              "type": "area"
             },
             "title": "South Dakota",
             "transform": [
              {
               "filter": {
                "equal": "South Dakota",
                "field": "GeoName"
               }
              },
              {
               "as": "dValue",
               "calculate": "(datum.Value - 4000)"
              },
              {
               "as": "ddValue",
               "calculate": "(datum.Value - 8000)"
              }
             ],
             "width": 200
            }
           ]
          },
          {
           "layer": [
            {
             "data": {
              "format": {
               "type": "json"
              },
              "url": "altair-data-c7b18632dfb4654bdd26f54e980bd74d.json"
             },
             "encoding": {
              "opacity": {
               "value": 0.25
              },
              "x": {
               "field": "Year",
               "scale": {
                "nice": false,
                "zero": false
               },
               "timeUnit": "year",
               "type": "temporal"
              },
              "y": {
               "axis": {
                "title": "Spending"
               },
               "field": "Value",
               "scale": {
                "domain": [
                 0,
                 4000
                ]
               },
               "type": "quantitative"
              }
             },
             "height": 50,
             "mark": {
              "clip": true,
              "interpolate": "monotone",
              "type": "area"
             },
             "title": "Tennessee",
             "transform": [
              {
               "filter": {
                "equal": "Tennessee",
                "field": "GeoName"
               }
              }
             ],
             "width": 200
            },
            {
             "data": {
              "format": {
               "type": "json"
              },
              "url": "altair-data-c7b18632dfb4654bdd26f54e980bd74d.json"
             },
             "encoding": {
              "opacity": {
               "value": 0.5
              },
              "x": {
               "field": "Year",
               "scale": {
                "nice": false,
                "zero": false
               },
               "timeUnit": "year",
               "type": "temporal"
              },
              "y": {
               "field": "dValue",
               "scale": {
                "domain": [
                 0,
                 4000
                ]
               },
               "type": "quantitative"
              }
             },
             "height": 50,
             "mark": {
              "clip": true,
              "interpolate": "monotone",
              "type": "area"
             },
             "title": "Tennessee",
             "transform": [
              {
               "filter": {
                "equal": "Tennessee",
                "field": "GeoName"
               }
              },
              {
               "as": "dValue",
               "calculate": "(datum.Value - 4000)"
              }
             ],
             "width": 200
            },
            {
             "data": {
              "format": {
               "type": "json"
              },
              "url": "altair-data-c7b18632dfb4654bdd26f54e980bd74d.json"
             },
             "encoding": {
              "opacity": {
               "value": 0.75
              },
              "x": {
               "field": "Year",
               "scale": {
                "nice": false,
                "zero": false
               },
               "timeUnit": "year",
               "type": "temporal"
              },
              "y": {
               "field": "ddValue",
               "scale": {
                "domain": [
                 0,
                 4000
                ]
               },
               "type": "quantitative"
              }
             },
             "height": 50,
             "mark": {
              "clip": true,
              "interpolate": "monotone",
              "type": "area"
             },
             "title": "Tennessee",
             "transform": [
              {
               "filter": {
                "equal": "Tennessee",
                "field": "GeoName"
               }
              },
              {
               "as": "dValue",
               "calculate": "(datum.Value - 4000)"
              },
              {
               "as": "ddValue",
               "calculate": "(datum.Value - 8000)"
              }
             ],
             "width": 200
            }
           ]
          },
          {
           "layer": [
            {
             "data": {
              "format": {
               "type": "json"
              },
              "url": "altair-data-c7b18632dfb4654bdd26f54e980bd74d.json"
             },
             "encoding": {
              "opacity": {
               "value": 0.25
              },
              "x": {
               "field": "Year",
               "scale": {
                "nice": false,
                "zero": false
               },
               "timeUnit": "year",
               "type": "temporal"
              },
              "y": {
               "axis": {
                "title": "Spending"
               },
               "field": "Value",
               "scale": {
                "domain": [
                 0,
                 4000
                ]
               },
               "type": "quantitative"
              }
             },
             "height": 50,
             "mark": {
              "clip": true,
              "interpolate": "monotone",
              "type": "area"
             },
             "title": "Texas",
             "transform": [
              {
               "filter": {
                "equal": "Texas",
                "field": "GeoName"
               }
              }
             ],
             "width": 200
            },
            {
             "data": {
              "format": {
               "type": "json"
              },
              "url": "altair-data-c7b18632dfb4654bdd26f54e980bd74d.json"
             },
             "encoding": {
              "opacity": {
               "value": 0.5
              },
              "x": {
               "field": "Year",
               "scale": {
                "nice": false,
                "zero": false
               },
               "timeUnit": "year",
               "type": "temporal"
              },
              "y": {
               "field": "dValue",
               "scale": {
                "domain": [
                 0,
                 4000
                ]
               },
               "type": "quantitative"
              }
             },
             "height": 50,
             "mark": {
              "clip": true,
              "interpolate": "monotone",
              "type": "area"
             },
             "title": "Texas",
             "transform": [
              {
               "filter": {
                "equal": "Texas",
                "field": "GeoName"
               }
              },
              {
               "as": "dValue",
               "calculate": "(datum.Value - 4000)"
              }
             ],
             "width": 200
            },
            {
             "data": {
              "format": {
               "type": "json"
              },
              "url": "altair-data-c7b18632dfb4654bdd26f54e980bd74d.json"
             },
             "encoding": {
              "opacity": {
               "value": 0.75
              },
              "x": {
               "field": "Year",
               "scale": {
                "nice": false,
                "zero": false
               },
               "timeUnit": "year",
               "type": "temporal"
              },
              "y": {
               "field": "ddValue",
               "scale": {
                "domain": [
                 0,
                 4000
                ]
               },
               "type": "quantitative"
              }
             },
             "height": 50,
             "mark": {
              "clip": true,
              "interpolate": "monotone",
              "type": "area"
             },
             "title": "Texas",
             "transform": [
              {
               "filter": {
                "equal": "Texas",
                "field": "GeoName"
               }
              },
              {
               "as": "dValue",
               "calculate": "(datum.Value - 4000)"
              },
              {
               "as": "ddValue",
               "calculate": "(datum.Value - 8000)"
              }
             ],
             "width": 200
            }
           ]
          },
          {
           "layer": [
            {
             "data": {
              "format": {
               "type": "json"
              },
              "url": "altair-data-c7b18632dfb4654bdd26f54e980bd74d.json"
             },
             "encoding": {
              "opacity": {
               "value": 0.25
              },
              "x": {
               "field": "Year",
               "scale": {
                "nice": false,
                "zero": false
               },
               "timeUnit": "year",
               "type": "temporal"
              },
              "y": {
               "axis": {
                "title": "Spending"
               },
               "field": "Value",
               "scale": {
                "domain": [
                 0,
                 4000
                ]
               },
               "type": "quantitative"
              }
             },
             "height": 50,
             "mark": {
              "clip": true,
              "interpolate": "monotone",
              "type": "area"
             },
             "title": "Utah",
             "transform": [
              {
               "filter": {
                "equal": "Utah",
                "field": "GeoName"
               }
              }
             ],
             "width": 200
            },
            {
             "data": {
              "format": {
               "type": "json"
              },
              "url": "altair-data-c7b18632dfb4654bdd26f54e980bd74d.json"
             },
             "encoding": {
              "opacity": {
               "value": 0.5
              },
              "x": {
               "field": "Year",
               "scale": {
                "nice": false,
                "zero": false
               },
               "timeUnit": "year",
               "type": "temporal"
              },
              "y": {
               "field": "dValue",
               "scale": {
                "domain": [
                 0,
                 4000
                ]
               },
               "type": "quantitative"
              }
             },
             "height": 50,
             "mark": {
              "clip": true,
              "interpolate": "monotone",
              "type": "area"
             },
             "title": "Utah",
             "transform": [
              {
               "filter": {
                "equal": "Utah",
                "field": "GeoName"
               }
              },
              {
               "as": "dValue",
               "calculate": "(datum.Value - 4000)"
              }
             ],
             "width": 200
            },
            {
             "data": {
              "format": {
               "type": "json"
              },
              "url": "altair-data-c7b18632dfb4654bdd26f54e980bd74d.json"
             },
             "encoding": {
              "opacity": {
               "value": 0.75
              },
              "x": {
               "field": "Year",
               "scale": {
                "nice": false,
                "zero": false
               },
               "timeUnit": "year",
               "type": "temporal"
              },
              "y": {
               "field": "ddValue",
               "scale": {
                "domain": [
                 0,
                 4000
                ]
               },
               "type": "quantitative"
              }
             },
             "height": 50,
             "mark": {
              "clip": true,
              "interpolate": "monotone",
              "type": "area"
             },
             "title": "Utah",
             "transform": [
              {
               "filter": {
                "equal": "Utah",
                "field": "GeoName"
               }
              },
              {
               "as": "dValue",
               "calculate": "(datum.Value - 4000)"
              },
              {
               "as": "ddValue",
               "calculate": "(datum.Value - 8000)"
              }
             ],
             "width": 200
            }
           ]
          },
          {
           "layer": [
            {
             "data": {
              "format": {
               "type": "json"
              },
              "url": "altair-data-c7b18632dfb4654bdd26f54e980bd74d.json"
             },
             "encoding": {
              "opacity": {
               "value": 0.25
              },
              "x": {
               "field": "Year",
               "scale": {
                "nice": false,
                "zero": false
               },
               "timeUnit": "year",
               "type": "temporal"
              },
              "y": {
               "axis": {
                "title": "Spending"
               },
               "field": "Value",
               "scale": {
                "domain": [
                 0,
                 4000
                ]
               },
               "type": "quantitative"
              }
             },
             "height": 50,
             "mark": {
              "clip": true,
              "interpolate": "monotone",
              "type": "area"
             },
             "title": "Vermont",
             "transform": [
              {
               "filter": {
                "equal": "Vermont",
                "field": "GeoName"
               }
              }
             ],
             "width": 200
            },
            {
             "data": {
              "format": {
               "type": "json"
              },
              "url": "altair-data-c7b18632dfb4654bdd26f54e980bd74d.json"
             },
             "encoding": {
              "opacity": {
               "value": 0.5
              },
              "x": {
               "field": "Year",
               "scale": {
                "nice": false,
                "zero": false
               },
               "timeUnit": "year",
               "type": "temporal"
              },
              "y": {
               "field": "dValue",
               "scale": {
                "domain": [
                 0,
                 4000
                ]
               },
               "type": "quantitative"
              }
             },
             "height": 50,
             "mark": {
              "clip": true,
              "interpolate": "monotone",
              "type": "area"
             },
             "title": "Vermont",
             "transform": [
              {
               "filter": {
                "equal": "Vermont",
                "field": "GeoName"
               }
              },
              {
               "as": "dValue",
               "calculate": "(datum.Value - 4000)"
              }
             ],
             "width": 200
            },
            {
             "data": {
              "format": {
               "type": "json"
              },
              "url": "altair-data-c7b18632dfb4654bdd26f54e980bd74d.json"
             },
             "encoding": {
              "opacity": {
               "value": 0.75
              },
              "x": {
               "field": "Year",
               "scale": {
                "nice": false,
                "zero": false
               },
               "timeUnit": "year",
               "type": "temporal"
              },
              "y": {
               "field": "ddValue",
               "scale": {
                "domain": [
                 0,
                 4000
                ]
               },
               "type": "quantitative"
              }
             },
             "height": 50,
             "mark": {
              "clip": true,
              "interpolate": "monotone",
              "type": "area"
             },
             "title": "Vermont",
             "transform": [
              {
               "filter": {
                "equal": "Vermont",
                "field": "GeoName"
               }
              },
              {
               "as": "dValue",
               "calculate": "(datum.Value - 4000)"
              },
              {
               "as": "ddValue",
               "calculate": "(datum.Value - 8000)"
              }
             ],
             "width": 200
            }
           ]
          },
          {
           "layer": [
            {
             "data": {
              "format": {
               "type": "json"
              },
              "url": "altair-data-c7b18632dfb4654bdd26f54e980bd74d.json"
             },
             "encoding": {
              "opacity": {
               "value": 0.25
              },
              "x": {
               "field": "Year",
               "scale": {
                "nice": false,
                "zero": false
               },
               "timeUnit": "year",
               "type": "temporal"
              },
              "y": {
               "axis": {
                "title": "Spending"
               },
               "field": "Value",
               "scale": {
                "domain": [
                 0,
                 4000
                ]
               },
               "type": "quantitative"
              }
             },
             "height": 50,
             "mark": {
              "clip": true,
              "interpolate": "monotone",
              "type": "area"
             },
             "title": "Virginia",
             "transform": [
              {
               "filter": {
                "equal": "Virginia",
                "field": "GeoName"
               }
              }
             ],
             "width": 200
            },
            {
             "data": {
              "format": {
               "type": "json"
              },
              "url": "altair-data-c7b18632dfb4654bdd26f54e980bd74d.json"
             },
             "encoding": {
              "opacity": {
               "value": 0.5
              },
              "x": {
               "field": "Year",
               "scale": {
                "nice": false,
                "zero": false
               },
               "timeUnit": "year",
               "type": "temporal"
              },
              "y": {
               "field": "dValue",
               "scale": {
                "domain": [
                 0,
                 4000
                ]
               },
               "type": "quantitative"
              }
             },
             "height": 50,
             "mark": {
              "clip": true,
              "interpolate": "monotone",
              "type": "area"
             },
             "title": "Virginia",
             "transform": [
              {
               "filter": {
                "equal": "Virginia",
                "field": "GeoName"
               }
              },
              {
               "as": "dValue",
               "calculate": "(datum.Value - 4000)"
              }
             ],
             "width": 200
            },
            {
             "data": {
              "format": {
               "type": "json"
              },
              "url": "altair-data-c7b18632dfb4654bdd26f54e980bd74d.json"
             },
             "encoding": {
              "opacity": {
               "value": 0.75
              },
              "x": {
               "field": "Year",
               "scale": {
                "nice": false,
                "zero": false
               },
               "timeUnit": "year",
               "type": "temporal"
              },
              "y": {
               "field": "ddValue",
               "scale": {
                "domain": [
                 0,
                 4000
                ]
               },
               "type": "quantitative"
              }
             },
             "height": 50,
             "mark": {
              "clip": true,
              "interpolate": "monotone",
              "type": "area"
             },
             "title": "Virginia",
             "transform": [
              {
               "filter": {
                "equal": "Virginia",
                "field": "GeoName"
               }
              },
              {
               "as": "dValue",
               "calculate": "(datum.Value - 4000)"
              },
              {
               "as": "ddValue",
               "calculate": "(datum.Value - 8000)"
              }
             ],
             "width": 200
            }
           ]
          },
          {
           "layer": [
            {
             "data": {
              "format": {
               "type": "json"
              },
              "url": "altair-data-c7b18632dfb4654bdd26f54e980bd74d.json"
             },
             "encoding": {
              "opacity": {
               "value": 0.25
              },
              "x": {
               "field": "Year",
               "scale": {
                "nice": false,
                "zero": false
               },
               "timeUnit": "year",
               "type": "temporal"
              },
              "y": {
               "axis": {
                "title": "Spending"
               },
               "field": "Value",
               "scale": {
                "domain": [
                 0,
                 4000
                ]
               },
               "type": "quantitative"
              }
             },
             "height": 50,
             "mark": {
              "clip": true,
              "interpolate": "monotone",
              "type": "area"
             },
             "title": "Washington",
             "transform": [
              {
               "filter": {
                "equal": "Washington",
                "field": "GeoName"
               }
              }
             ],
             "width": 200
            },
            {
             "data": {
              "format": {
               "type": "json"
              },
              "url": "altair-data-c7b18632dfb4654bdd26f54e980bd74d.json"
             },
             "encoding": {
              "opacity": {
               "value": 0.5
              },
              "x": {
               "field": "Year",
               "scale": {
                "nice": false,
                "zero": false
               },
               "timeUnit": "year",
               "type": "temporal"
              },
              "y": {
               "field": "dValue",
               "scale": {
                "domain": [
                 0,
                 4000
                ]
               },
               "type": "quantitative"
              }
             },
             "height": 50,
             "mark": {
              "clip": true,
              "interpolate": "monotone",
              "type": "area"
             },
             "title": "Washington",
             "transform": [
              {
               "filter": {
                "equal": "Washington",
                "field": "GeoName"
               }
              },
              {
               "as": "dValue",
               "calculate": "(datum.Value - 4000)"
              }
             ],
             "width": 200
            },
            {
             "data": {
              "format": {
               "type": "json"
              },
              "url": "altair-data-c7b18632dfb4654bdd26f54e980bd74d.json"
             },
             "encoding": {
              "opacity": {
               "value": 0.75
              },
              "x": {
               "field": "Year",
               "scale": {
                "nice": false,
                "zero": false
               },
               "timeUnit": "year",
               "type": "temporal"
              },
              "y": {
               "field": "ddValue",
               "scale": {
                "domain": [
                 0,
                 4000
                ]
               },
               "type": "quantitative"
              }
             },
             "height": 50,
             "mark": {
              "clip": true,
              "interpolate": "monotone",
              "type": "area"
             },
             "title": "Washington",
             "transform": [
              {
               "filter": {
                "equal": "Washington",
                "field": "GeoName"
               }
              },
              {
               "as": "dValue",
               "calculate": "(datum.Value - 4000)"
              },
              {
               "as": "ddValue",
               "calculate": "(datum.Value - 8000)"
              }
             ],
             "width": 200
            }
           ]
          },
          {
           "layer": [
            {
             "data": {
              "format": {
               "type": "json"
              },
              "url": "altair-data-c7b18632dfb4654bdd26f54e980bd74d.json"
             },
             "encoding": {
              "opacity": {
               "value": 0.25
              },
              "x": {
               "field": "Year",
               "scale": {
                "nice": false,
                "zero": false
               },
               "timeUnit": "year",
               "type": "temporal"
              },
              "y": {
               "axis": {
                "title": "Spending"
               },
               "field": "Value",
               "scale": {
                "domain": [
                 0,
                 4000
                ]
               },
               "type": "quantitative"
              }
             },
             "height": 50,
             "mark": {
              "clip": true,
              "interpolate": "monotone",
              "type": "area"
             },
             "title": "West Virginia",
             "transform": [
              {
               "filter": {
                "equal": "West Virginia",
                "field": "GeoName"
               }
              }
             ],
             "width": 200
            },
            {
             "data": {
              "format": {
               "type": "json"
              },
              "url": "altair-data-c7b18632dfb4654bdd26f54e980bd74d.json"
             },
             "encoding": {
              "opacity": {
               "value": 0.5
              },
              "x": {
               "field": "Year",
               "scale": {
                "nice": false,
                "zero": false
               },
               "timeUnit": "year",
               "type": "temporal"
              },
              "y": {
               "field": "dValue",
               "scale": {
                "domain": [
                 0,
                 4000
                ]
               },
               "type": "quantitative"
              }
             },
             "height": 50,
             "mark": {
              "clip": true,
              "interpolate": "monotone",
              "type": "area"
             },
             "title": "West Virginia",
             "transform": [
              {
               "filter": {
                "equal": "West Virginia",
                "field": "GeoName"
               }
              },
              {
               "as": "dValue",
               "calculate": "(datum.Value - 4000)"
              }
             ],
             "width": 200
            },
            {
             "data": {
              "format": {
               "type": "json"
              },
              "url": "altair-data-c7b18632dfb4654bdd26f54e980bd74d.json"
             },
             "encoding": {
              "opacity": {
               "value": 0.75
              },
              "x": {
               "field": "Year",
               "scale": {
                "nice": false,
                "zero": false
               },
               "timeUnit": "year",
               "type": "temporal"
              },
              "y": {
               "field": "ddValue",
               "scale": {
                "domain": [
                 0,
                 4000
                ]
               },
               "type": "quantitative"
              }
             },
             "height": 50,
             "mark": {
              "clip": true,
              "interpolate": "monotone",
              "type": "area"
             },
             "title": "West Virginia",
             "transform": [
              {
               "filter": {
                "equal": "West Virginia",
                "field": "GeoName"
               }
              },
              {
               "as": "dValue",
               "calculate": "(datum.Value - 4000)"
              },
              {
               "as": "ddValue",
               "calculate": "(datum.Value - 8000)"
              }
             ],
             "width": 200
            }
           ]
          },
          {
           "layer": [
            {
             "data": {
              "format": {
               "type": "json"
              },
              "url": "altair-data-c7b18632dfb4654bdd26f54e980bd74d.json"
             },
             "encoding": {
              "opacity": {
               "value": 0.25
              },
              "x": {
               "field": "Year",
               "scale": {
                "nice": false,
                "zero": false
               },
               "timeUnit": "year",
               "type": "temporal"
              },
              "y": {
               "axis": {
                "title": "Spending"
               },
               "field": "Value",
               "scale": {
                "domain": [
                 0,
                 4000
                ]
               },
               "type": "quantitative"
              }
             },
             "height": 50,
             "mark": {
              "clip": true,
              "interpolate": "monotone",
              "type": "area"
             },
             "title": "Wisconsin",
             "transform": [
              {
               "filter": {
                "equal": "Wisconsin",
                "field": "GeoName"
               }
              }
             ],
             "width": 200
            },
            {
             "data": {
              "format": {
               "type": "json"
              },
              "url": "altair-data-c7b18632dfb4654bdd26f54e980bd74d.json"
             },
             "encoding": {
              "opacity": {
               "value": 0.5
              },
              "x": {
               "field": "Year",
               "scale": {
                "nice": false,
                "zero": false
               },
               "timeUnit": "year",
               "type": "temporal"
              },
              "y": {
               "field": "dValue",
               "scale": {
                "domain": [
                 0,
                 4000
                ]
               },
               "type": "quantitative"
              }
             },
             "height": 50,
             "mark": {
              "clip": true,
              "interpolate": "monotone",
              "type": "area"
             },
             "title": "Wisconsin",
             "transform": [
              {
               "filter": {
                "equal": "Wisconsin",
                "field": "GeoName"
               }
              },
              {
               "as": "dValue",
               "calculate": "(datum.Value - 4000)"
              }
             ],
             "width": 200
            },
            {
             "data": {
              "format": {
               "type": "json"
              },
              "url": "altair-data-c7b18632dfb4654bdd26f54e980bd74d.json"
             },
             "encoding": {
              "opacity": {
               "value": 0.75
              },
              "x": {
               "field": "Year",
               "scale": {
                "nice": false,
                "zero": false
               },
               "timeUnit": "year",
               "type": "temporal"
              },
              "y": {
               "field": "ddValue",
               "scale": {
                "domain": [
                 0,
                 4000
                ]
               },
               "type": "quantitative"
              }
             },
             "height": 50,
             "mark": {
              "clip": true,
              "interpolate": "monotone",
              "type": "area"
             },
             "title": "Wisconsin",
             "transform": [
              {
               "filter": {
                "equal": "Wisconsin",
                "field": "GeoName"
               }
              },
              {
               "as": "dValue",
               "calculate": "(datum.Value - 4000)"
              },
              {
               "as": "ddValue",
               "calculate": "(datum.Value - 8000)"
              }
             ],
             "width": 200
            }
           ]
          },
          {
           "layer": [
            {
             "data": {
              "format": {
               "type": "json"
              },
              "url": "altair-data-c7b18632dfb4654bdd26f54e980bd74d.json"
             },
             "encoding": {
              "opacity": {
               "value": 0.25
              },
              "x": {
               "field": "Year",
               "scale": {
                "nice": false,
                "zero": false
               },
               "timeUnit": "year",
               "type": "temporal"
              },
              "y": {
               "axis": {
                "title": "Spending"
               },
               "field": "Value",
               "scale": {
                "domain": [
                 0,
                 4000
                ]
               },
               "type": "quantitative"
              }
             },
             "height": 50,
             "mark": {
              "clip": true,
              "interpolate": "monotone",
              "type": "area"
             },
             "title": "Wyoming",
             "transform": [
              {
               "filter": {
                "equal": "Wyoming",
                "field": "GeoName"
               }
              }
             ],
             "width": 200
            },
            {
             "data": {
              "format": {
               "type": "json"
              },
              "url": "altair-data-c7b18632dfb4654bdd26f54e980bd74d.json"
             },
             "encoding": {
              "opacity": {
               "value": 0.5
              },
              "x": {
               "field": "Year",
               "scale": {
                "nice": false,
                "zero": false
               },
               "timeUnit": "year",
               "type": "temporal"
              },
              "y": {
               "field": "dValue",
               "scale": {
                "domain": [
                 0,
                 4000
                ]
               },
               "type": "quantitative"
              }
             },
             "height": 50,
             "mark": {
              "clip": true,
              "interpolate": "monotone",
              "type": "area"
             },
             "title": "Wyoming",
             "transform": [
              {
               "filter": {
                "equal": "Wyoming",
                "field": "GeoName"
               }
              },
              {
               "as": "dValue",
               "calculate": "(datum.Value - 4000)"
              }
             ],
             "width": 200
            },
            {
             "data": {
              "format": {
               "type": "json"
              },
              "url": "altair-data-c7b18632dfb4654bdd26f54e980bd74d.json"
             },
             "encoding": {
              "opacity": {
               "value": 0.75
              },
              "x": {
               "field": "Year",
               "scale": {
                "nice": false,
                "zero": false
               },
               "timeUnit": "year",
               "type": "temporal"
              },
              "y": {
               "field": "ddValue",
               "scale": {
                "domain": [
                 0,
                 4000
                ]
               },
               "type": "quantitative"
              }
             },
             "height": 50,
             "mark": {
              "clip": true,
              "interpolate": "monotone",
              "type": "area"
             },
             "title": "Wyoming",
             "transform": [
              {
               "filter": {
                "equal": "Wyoming",
                "field": "GeoName"
               }
              },
              {
               "as": "dValue",
               "calculate": "(datum.Value - 4000)"
              },
              {
               "as": "ddValue",
               "calculate": "(datum.Value - 8000)"
              }
             ],
             "width": 200
            }
           ]
          }
         ]
        }
       ]
      },
      "image/png": "[encoded data removed]",
      "text/plain": [
       "<VegaLite 2 object>\n",
       "\n",
       "If you see this message, it means the renderer has not been properly enabled\n",
       "for the frontend that you are using. For more information, see\n",
       "https://altair-viz.github.io/user_guide/troubleshooting.html\n"
      ]
     },
     "execution_count": 74,
     "metadata": {},
     "output_type": "execute_result"
    }
   ],
   "source": [
    "horizon_chart_overall"
   ]
  },
  {
   "cell_type": "code",
   "execution_count": null,
   "metadata": {},
   "outputs": [],
   "source": []
  }
 ],
 "metadata": {
  "kernelspec": {
   "display_name": "Python 3",
   "language": "python",
   "name": "python3"
  },
  "language_info": {
   "codemirror_mode": {
    "name": "ipython",
    "version": 3
   },
   "file_extension": ".py",
   "mimetype": "text/x-python",
   "name": "python",
   "nbconvert_exporter": "python",
   "pygments_lexer": "ipython3",
   "version": "3.6.7"
  }
 },
 "nbformat": 4,
 "nbformat_minor": 2
}
